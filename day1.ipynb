{
 "cells": [
  {
   "cell_type": "markdown",
   "id": "939e0e1b-e754-43e1-b1b5-a1fe0f70a005",
   "metadata": {},
   "source": [
    "### Part 1"
   ]
  },
  {
   "cell_type": "code",
   "execution_count": 61,
   "id": "afd03084-c442-4e4b-8b93-8980cd5c8d43",
   "metadata": {},
   "outputs": [],
   "source": [
    "def ln2num_p1(ln):\n",
    "    _nums = [c for c in ln if c.isnumeric()]\n",
    "    if len(_nums) == 1:\n",
    "        nums = _nums * 2\n",
    "    else:\n",
    "        nums = _nums[0] + _nums[-1]\n",
    "    num = int(\"\".join(nums))\n",
    "    return num"
   ]
  },
  {
   "cell_type": "code",
   "execution_count": 79,
   "id": "bf1caa68-807c-4ad4-9c4d-842615c19785",
   "metadata": {},
   "outputs": [],
   "source": [
    "def compute_total(ln2num_fn):\n",
    "    total = 0\n",
    "    with open(\"data/day1-input.txt\") as infile:\n",
    "        for ln in infile.readlines():\n",
    "            num = ln2num_fn(ln)\n",
    "            total += num\n",
    "            # print(num, ln)\n",
    "    return total"
   ]
  },
  {
   "cell_type": "code",
   "execution_count": 80,
   "id": "e6e413ac-09d7-4672-a92c-6aa159768c6b",
   "metadata": {},
   "outputs": [
    {
     "name": "stdout",
     "output_type": "stream",
     "text": [
      "53921\n"
     ]
    }
   ],
   "source": [
    "print(compute_total(ln2num_p1))"
   ]
  },
  {
   "cell_type": "markdown",
   "id": "a018456a-70f6-4be8-a506-449bd3bd7c5a",
   "metadata": {},
   "source": [
    "### Part 2"
   ]
  },
  {
   "cell_type": "code",
   "execution_count": 81,
   "id": "50f5a908-e0d7-4d81-930c-0bd91e7f3f06",
   "metadata": {},
   "outputs": [],
   "source": [
    "from collections import defaultdict\n",
    "\n",
    "def ln2num_p2(ln):\n",
    "    # print(ln)\n",
    "    str2num = {\n",
    "        \"one\": \"1\",\n",
    "        \"two\": \"2\",\n",
    "        \"three\": \"3\",\n",
    "        \"four\": \"4\",\n",
    "        \"five\": \"5\",\n",
    "        \"six\": \"6\",\n",
    "        \"seven\": \"7\",\n",
    "        \"eight\": \"8\",\n",
    "        \"nine\": \"9\",\n",
    "    }\n",
    "    fc2str = defaultdict(set)\n",
    "    for s in str2num:\n",
    "        fc2str[s[0]].add(s)\n",
    "    new_ln = []\n",
    "    i, n = 0, len(ln)\n",
    "    while i < n:\n",
    "        c = ln[i]\n",
    "        if c not in fc2str:\n",
    "            new_ln.append(c)\n",
    "            i += 1\n",
    "        else:\n",
    "            for maybe_num in fc2str[c]:\n",
    "                end = i+len(maybe_num)\n",
    "                # print(i, ln[i], ln[i:end])\n",
    "                if ln[i:end] == maybe_num:\n",
    "                    new_ln.append(str2num[maybe_num])\n",
    "                    i = i + 1\n",
    "                    break\n",
    "            else:\n",
    "                i += 1\n",
    "    return ln2num_p1(new_ln)"
   ]
  },
  {
   "cell_type": "code",
   "execution_count": 82,
   "id": "0582ec29-fac3-44f3-8659-7c8bdec294ba",
   "metadata": {},
   "outputs": [
    {
     "name": "stdout",
     "output_type": "stream",
     "text": [
      "54676\n"
     ]
    }
   ],
   "source": [
    "print(compute_total(ln2num_p2))"
   ]
  },
  {
   "cell_type": "code",
   "execution_count": 78,
   "id": "36c70097-9757-42c0-a723-7bc46480ec73",
   "metadata": {},
   "outputs": [],
   "source": [
    "test = [\n",
    "    'two1nine',\n",
    "    'eightwothree',\n",
    "    'abcone2threexyz',\n",
    "    'xtwone3four',\n",
    "    '4nineeightseven2',\n",
    "    'zoneight234',\n",
    "    '7pqrstsixteen',\n",
    "]"
   ]
  },
  {
   "cell_type": "code",
   "execution_count": 69,
   "id": "a0a5dc0f-c409-4499-b350-eda228246633",
   "metadata": {},
   "outputs": [
    {
     "data": {
      "text/plain": [
       "281"
      ]
     },
     "execution_count": 69,
     "metadata": {},
     "output_type": "execute_result"
    }
   ],
   "source": [
    "sum(ln2num_p2(t) for t in test)"
   ]
  },
  {
   "cell_type": "code",
   "execution_count": null,
   "id": "f49f4286-347d-4c03-be50-07ad21b41462",
   "metadata": {},
   "outputs": [],
   "source": []
  }
 ],
 "metadata": {
  "kernelspec": {
   "display_name": "Python 3 (ipykernel)",
   "language": "python",
   "name": "python3"
  },
  "language_info": {
   "codemirror_mode": {
    "name": "ipython",
    "version": 3
   },
   "file_extension": ".py",
   "mimetype": "text/x-python",
   "name": "python",
   "nbconvert_exporter": "python",
   "pygments_lexer": "ipython3",
   "version": "3.11.6"
  }
 },
 "nbformat": 4,
 "nbformat_minor": 5
}
