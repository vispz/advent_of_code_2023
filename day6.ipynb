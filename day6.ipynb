{
 "cells": [
  {
   "cell_type": "code",
   "execution_count": 29,
   "id": "161b4892-2c08-44ed-a524-a12bd6b92ac3",
   "metadata": {},
   "outputs": [],
   "source": [
    "from functools import reduce\n",
    "from tqdm.notebook import tqdm"
   ]
  },
  {
   "cell_type": "code",
   "execution_count": 30,
   "id": "9be2e6c6-0c03-4468-8f3d-96b72437746d",
   "metadata": {},
   "outputs": [],
   "source": [
    "test = {\n",
    "    'times':  [7,15,30],\n",
    "    'dists':  [9, 40,  200],\n",
    "}\n",
    "input = {\n",
    "    'times':   [48, 93, 84, 66],\n",
    "    'dists':   [261, 1192, 1019, 1063],\n",
    "}"
   ]
  },
  {
   "cell_type": "code",
   "execution_count": 31,
   "id": "03f7b54b-91a6-4636-82c1-6e992be7f610",
   "metadata": {},
   "outputs": [],
   "source": [
    "def part1(times, dists):\n",
    "    return reduce(lambda x, y: x*y, (num_ways(t, d) for t, d in zip(times, dists)) )\n",
    "\n",
    "def num_ways(time, dist):\n",
    "    nways = 0\n",
    "    for hold in tqdm(range(1, time)):\n",
    "        travelled = hold * (time-hold)\n",
    "        if travelled > dist:\n",
    "            nways+= 1\n",
    "    return nways"
   ]
  },
  {
   "cell_type": "code",
   "execution_count": 32,
   "id": "d231a0c6-ab9f-4ac1-a257-b086b97b3e64",
   "metadata": {},
   "outputs": [
    {
     "data": {
      "application/vnd.jupyter.widget-view+json": {
       "model_id": "6d23975edb6d492c988aedeed2abdfc4",
       "version_major": 2,
       "version_minor": 0
      },
      "text/plain": [
       "  0%|          | 0/47 [00:00<?, ?it/s]"
      ]
     },
     "metadata": {},
     "output_type": "display_data"
    },
    {
     "data": {
      "application/vnd.jupyter.widget-view+json": {
       "model_id": "0359e3f74fb24a108a8d019ef5bd1f52",
       "version_major": 2,
       "version_minor": 0
      },
      "text/plain": [
       "  0%|          | 0/92 [00:00<?, ?it/s]"
      ]
     },
     "metadata": {},
     "output_type": "display_data"
    },
    {
     "data": {
      "application/vnd.jupyter.widget-view+json": {
       "model_id": "d9aa6d9e89214769bbf0612da6845980",
       "version_major": 2,
       "version_minor": 0
      },
      "text/plain": [
       "  0%|          | 0/83 [00:00<?, ?it/s]"
      ]
     },
     "metadata": {},
     "output_type": "display_data"
    },
    {
     "data": {
      "application/vnd.jupyter.widget-view+json": {
       "model_id": "2afa465b23b34eaab0689d9e408d4097",
       "version_major": 2,
       "version_minor": 0
      },
      "text/plain": [
       "  0%|          | 0/65 [00:00<?, ?it/s]"
      ]
     },
     "metadata": {},
     "output_type": "display_data"
    },
    {
     "data": {
      "text/plain": [
       "1312850"
      ]
     },
     "execution_count": 32,
     "metadata": {},
     "output_type": "execute_result"
    }
   ],
   "source": [
    "part1(**input)"
   ]
  },
  {
   "cell_type": "code",
   "execution_count": 33,
   "id": "df9dfbaa-bab1-4bf1-ae35-7e111f73cfba",
   "metadata": {},
   "outputs": [],
   "source": [
    "test2 = {\n",
    "    'time': 71530,\n",
    "    'dist': 940200,\n",
    "}\n",
    "input2 = {\n",
    "    'time': 48938466,\n",
    "    'dist': 261119210191063,\n",
    "}"
   ]
  },
  {
   "cell_type": "code",
   "execution_count": 34,
   "id": "a5a31cd4-11d8-4dbd-86ea-9a49561cff86",
   "metadata": {},
   "outputs": [
    {
     "data": {
      "application/vnd.jupyter.widget-view+json": {
       "model_id": "0f1cb4cd87b5405c94806aef47129910",
       "version_major": 2,
       "version_minor": 0
      },
      "text/plain": [
       "  0%|          | 0/71529 [00:00<?, ?it/s]"
      ]
     },
     "metadata": {},
     "output_type": "display_data"
    },
    {
     "data": {
      "text/plain": [
       "71503"
      ]
     },
     "execution_count": 34,
     "metadata": {},
     "output_type": "execute_result"
    }
   ],
   "source": [
    "num_ways(**test2)"
   ]
  },
  {
   "cell_type": "code",
   "execution_count": 35,
   "id": "4bdba813-f0bf-4e28-8ef9-7064a2414db3",
   "metadata": {},
   "outputs": [
    {
     "data": {
      "application/vnd.jupyter.widget-view+json": {
       "model_id": "c29db5ea22d14513a7fad60748e61d69",
       "version_major": 2,
       "version_minor": 0
      },
      "text/plain": [
       "  0%|          | 0/48938465 [00:00<?, ?it/s]"
      ]
     },
     "metadata": {},
     "output_type": "display_data"
    },
    {
     "data": {
      "text/plain": [
       "36749103"
      ]
     },
     "execution_count": 35,
     "metadata": {},
     "output_type": "execute_result"
    }
   ],
   "source": [
    "num_ways(**input2)"
   ]
  },
  {
   "cell_type": "code",
   "execution_count": null,
   "id": "4bc8d9e5-9a4e-4bbe-9450-f25d45ff268b",
   "metadata": {},
   "outputs": [],
   "source": []
  }
 ],
 "metadata": {
  "kernelspec": {
   "display_name": "Python 3 (ipykernel)",
   "language": "python",
   "name": "python3"
  },
  "language_info": {
   "codemirror_mode": {
    "name": "ipython",
    "version": 3
   },
   "file_extension": ".py",
   "mimetype": "text/x-python",
   "name": "python",
   "nbconvert_exporter": "python",
   "pygments_lexer": "ipython3",
   "version": "3.11.6"
  }
 },
 "nbformat": 4,
 "nbformat_minor": 5
}
