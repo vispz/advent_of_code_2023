{
 "cells": [
  {
   "cell_type": "code",
   "execution_count": 1,
   "id": "9d378fef-5abe-4601-a38e-ba6150c3a8f1",
   "metadata": {},
   "outputs": [],
   "source": [
    "import itertools as it"
   ]
  },
  {
   "cell_type": "code",
   "execution_count": 5,
   "id": "a2544a8b-bafb-4036-bcd5-d1bd96905881",
   "metadata": {},
   "outputs": [],
   "source": [
    "def parse_input(fl) -> list[dict]:\n",
    "    hists = []\n",
    "    with open(fl) as infile:\n",
    "       for ln in infile.readlines():\n",
    "           hists.append([int(n.strip()) for n in ln.split()])\n",
    "    return hists"
   ]
  },
  {
   "cell_type": "code",
   "execution_count": 6,
   "id": "276cdf07-bb5b-4b27-8a39-bd9694f5c559",
   "metadata": {},
   "outputs": [
    {
     "data": {
      "text/plain": [
       "[[0, 3, 6, 9, 12, 15], [1, 3, 6, 10, 15, 21], [10, 13, 16, 21, 30, 45]]"
      ]
     },
     "execution_count": 6,
     "metadata": {},
     "output_type": "execute_result"
    }
   ],
   "source": [
    "test = parse_input(\"data/day9-test.txt\")\n",
    "inputs = parse_input(\"data/day9-input.txt\")\n",
    "test"
   ]
  },
  {
   "cell_type": "code",
   "execution_count": 32,
   "id": "83930a79-6a54-4fc3-b954-28c60677c653",
   "metadata": {},
   "outputs": [],
   "source": [
    "def part1(hists: list[list[int]]) -> int:\n",
    "     return part_helper(hists=hists, find_num_fn=find_next_num)\n",
    "\n",
    "def part2(hists: list[list[int]]) -> int:\n",
    "     return part_helper(hists=hists, find_num_fn=find_prev_num)\n",
    "\n",
    "def part_helper(hists, find_num_fn):\n",
    "    return sum(\n",
    "        [\n",
    "            find_num_fn(hist)\n",
    "            for hist in hists\n",
    "        ]\n",
    "    )\n",
    "\n",
    "def find_next_num(hist):\n",
    "    list_of_diffs = build_list_of_diffs(hist)\n",
    "    cur_new_num = 0\n",
    "    for diffs in reversed(list_of_diffs):\n",
    "        cur_new_num += diffs[-1]\n",
    "    # print(f\"{cur_new_num=}\")\n",
    "    return cur_new_num\n",
    "\n",
    "def build_list_of_diffs(hist):\n",
    "    list_of_diffs = [hist.copy()]\n",
    "    while True:\n",
    "        cur = list_of_diffs[-1]\n",
    "        diffs = [n2-n1 for n1, n2 in zip(cur, cur[1:])]\n",
    "        list_of_diffs.append(diffs)\n",
    "        if len(set(diffs)) == 1:\n",
    "            break\n",
    "    return list_of_diffs\n",
    "\n",
    "def find_prev_num(hist):\n",
    "    list_of_diffs = build_list_of_diffs(hist)\n",
    "    cur_prev_num = 0\n",
    "    for diffs in reversed(list_of_diffs):\n",
    "        cur_prev_num = diffs[0] - cur_prev_num\n",
    "    # print(f\"{cur_prev_num=}\")\n",
    "    return cur_prev_num"
   ]
  },
  {
   "cell_type": "code",
   "execution_count": 33,
   "id": "82368679-084d-425a-832a-ca3c1edca743",
   "metadata": {},
   "outputs": [
    {
     "name": "stdout",
     "output_type": "stream",
     "text": [
      "[Part 1] Next num sum: 1708206096\n"
     ]
    }
   ],
   "source": [
    "print(f\"[Part 1] Next num sum: {part1(hists=inputs)}\")"
   ]
  },
  {
   "cell_type": "code",
   "execution_count": 35,
   "id": "5748b75a-484b-4ab1-9e27-ac440864edb4",
   "metadata": {},
   "outputs": [
    {
     "name": "stdout",
     "output_type": "stream",
     "text": [
      "[Part 2] Prev num sum: 1050\n"
     ]
    }
   ],
   "source": [
    "print(f\"[Part 2] Prev num sum: {part2(hists=inputs)}\")"
   ]
  },
  {
   "cell_type": "code",
   "execution_count": null,
   "id": "6c3dad8d-f91a-42d1-b0e1-8747147077b0",
   "metadata": {},
   "outputs": [],
   "source": []
  }
 ],
 "metadata": {
  "kernelspec": {
   "display_name": "Python 3 (ipykernel)",
   "language": "python",
   "name": "python3"
  },
  "language_info": {
   "codemirror_mode": {
    "name": "ipython",
    "version": 3
   },
   "file_extension": ".py",
   "mimetype": "text/x-python",
   "name": "python",
   "nbconvert_exporter": "python",
   "pygments_lexer": "ipython3",
   "version": "3.11.6"
  }
 },
 "nbformat": 4,
 "nbformat_minor": 5
}
