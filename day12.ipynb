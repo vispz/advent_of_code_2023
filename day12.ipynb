{
 "cells": [
  {
   "cell_type": "code",
   "execution_count": 165,
   "id": "1762832b-c8da-4bd7-b2f8-a4966b997be8",
   "metadata": {},
   "outputs": [],
   "source": [
    "from tqdm.notebook import tqdm"
   ]
  },
  {
   "cell_type": "code",
   "execution_count": 135,
   "id": "e566ffa8-fe81-4792-a866-a3c9e01de700",
   "metadata": {},
   "outputs": [],
   "source": [
    "def parse_input(fl):\n",
    "    data = []\n",
    "    with open(fl) as infile:\n",
    "        for ln in infile.readlines():\n",
    "            row, _cnts = ln.strip().split()\n",
    "            cnts = [int(c) for c in _cnts.split(',')]\n",
    "            data.append({'row': row, 'cnts': cnts})\n",
    "    return data"
   ]
  },
  {
   "cell_type": "code",
   "execution_count": 136,
   "id": "28b2474a-4a04-4e53-8c64-c97694524710",
   "metadata": {},
   "outputs": [
    {
     "data": {
      "text/plain": [
       "[{'row': '???.###', 'cnts': [1, 1, 3]},\n",
       " {'row': '.??..??...?##.', 'cnts': [1, 1, 3]},\n",
       " {'row': '?#?#?#?#?#?#?#?', 'cnts': [1, 3, 1, 6]},\n",
       " {'row': '????.#...#...', 'cnts': [4, 1, 1]},\n",
       " {'row': '????.######..#####.', 'cnts': [1, 6, 5]},\n",
       " {'row': '?###????????', 'cnts': [3, 2, 1]}]"
      ]
     },
     "execution_count": 136,
     "metadata": {},
     "output_type": "execute_result"
    }
   ],
   "source": [
    "test = parse_input(\"data/day12-test.txt\")\n",
    "inputs = parse_input(\"data/day12-input.txt\")\n",
    "test"
   ]
  },
  {
   "cell_type": "markdown",
   "id": "53e569bd-8a74-4dc7-90b4-915ba197c950",
   "metadata": {},
   "source": [
    "## Part 1"
   ]
  },
  {
   "cell_type": "code",
   "execution_count": 168,
   "id": "d25b9b6c-9d79-4f84-8bf7-8522f8aaadff",
   "metadata": {},
   "outputs": [
    {
     "data": {
      "text/plain": [
       "'adada?adada?adada?adada?adada'"
      ]
     },
     "execution_count": 168,
     "metadata": {},
     "output_type": "execute_result"
    }
   ],
   "source": [
    "'?'.join(['adada']*5)"
   ]
  },
  {
   "cell_type": "code",
   "execution_count": 169,
   "id": "21f3b9b9-76bd-477d-a423-548693ef6601",
   "metadata": {},
   "outputs": [],
   "source": [
    "def part1(data):\n",
    "    tot = 0\n",
    "    # print(\"cnt\\trow\")\n",
    "    for r in data:\n",
    "        paths = []\n",
    "        row_cnt = num_ways(\n",
    "            row=r['row'],\n",
    "            cnts=r['cnts'],\n",
    "            path=list(r['row']),\n",
    "            paths=paths,\n",
    "        )\n",
    "        # print(f\"{row_cnt}\\t{r}\")\n",
    "        tot += row_cnt\n",
    "    return tot\n",
    "\n",
    "def part2(data):\n",
    "    tot = 0\n",
    "    for r in tqdm(data, desc='Rows'):\n",
    "        tot += num_ways(\n",
    "            row='?'.join([r['row']]*5),\n",
    "            cnts=r['cnts']*5,\n",
    "        )\n",
    "    return tot\n",
    "    \n",
    "def num_ways(row, cnts, path=None, paths=None):\n",
    "    row_sz, num_cnt = len(row), len(cnts)\n",
    "    cache = [[None]*num_cnt for _ in range(row_sz)]\n",
    "    return num_ways_rec(rix=0, cix=0, row=row, cnts=cnts, cache=cache,path=path, paths=paths)\n",
    "\n",
    "\n",
    "def num_ways_rec(rix, cix, row, cnts, cache, path=None, paths=None):\n",
    "    # Terminal condition\n",
    "    row_sz = len(row)\n",
    "    if (\n",
    "        cix == len(cnts)\n",
    "        and \n",
    "        (\n",
    "            # The end of row as well\n",
    "            (rix >= row_sz)\n",
    "            # Only working gears\n",
    "            or (set(row[rix:]) <= {'.', '?'})\n",
    "        )\n",
    "    ):\n",
    "        if path:\n",
    "            joint_path = ''.join(path[:])\n",
    "            assert sum(c=='#' for c in path) == sum(cnts), f\"{row=}, {cnts=}\\n{joint_path=}\"\n",
    "            paths.append(joint_path)\n",
    "        return 1\n",
    "    elif cix == len(cnts):\n",
    "        return 0\n",
    "    elif rix >= row_sz:\n",
    "        return 0\n",
    "    # Logic\n",
    "    if cache[rix][cix] is not None:\n",
    "        return cache[rix][cix]\n",
    "    for ri in range(rix, row_sz):\n",
    "        if row[ri] in {'?', '#'}:\n",
    "            break\n",
    "    else:\n",
    "        return 0\n",
    "    if cache[ri][cix] is not None:\n",
    "        return cache[ri][cix]\n",
    "    cur_cnt = cnts[cix]\n",
    "    kwargs = dict(\n",
    "        row=row,\n",
    "        cnts=cnts,\n",
    "        cache=cache,\n",
    "        path=path,\n",
    "        paths=paths,\n",
    "    )\n",
    "    if (\n",
    "        (ri==0 or row[ri-1]!='#')\n",
    "        and ri+cur_cnt <= row_sz\n",
    "        and (set(row[ri:ri+cur_cnt]) <= {'?', '#'})\n",
    "        and (ri+cur_cnt >= row_sz or row[ri+cur_cnt] != '#')\n",
    "    ):\n",
    "        if path:\n",
    "            orig_val = path[ri:ri+cur_cnt]\n",
    "            path[ri:ri+cur_cnt] =  ['#'] * cur_cnt\n",
    "        filled_cnt = num_ways_rec(\n",
    "            # plus one as we cannot start another\n",
    "            # damaged contiguous group immediately after\n",
    "            # a filled contiguous group\n",
    "            rix=ri+cur_cnt+1,\n",
    "            cix=cix+1,\n",
    "            **kwargs,\n",
    "        )\n",
    "        if path:\n",
    "            path[ri:ri+cur_cnt] = orig_val\n",
    "    else:\n",
    "        filled_cnt = 0\n",
    "    if row[ri] == '?':\n",
    "        # we can only choose to fill if qn mark\n",
    "        non_filled_cnt = num_ways_rec(\n",
    "            rix=ri+1,\n",
    "            cix=cix,\n",
    "            **kwargs,\n",
    "        )\n",
    "    else:\n",
    "        non_filled_cnt = 0\n",
    "    tot_cnt = filled_cnt + non_filled_cnt\n",
    "    cache[rix][cix] = cache[ri][cix] = tot_cnt\n",
    "    # print(f\"{ri}\\t{cix}\\t{cur_cnt}\\t{row[ri:ri+cur_cnt]}\\t{filled_cnt}\\t\\t{non_filled_cnt}\\t\\t{tot_cnt}\")\n",
    "    return tot_cnt"
   ]
  },
  {
   "cell_type": "code",
   "execution_count": 163,
   "id": "1c83d789-b5dc-452e-a8b6-d3aec968e28b",
   "metadata": {},
   "outputs": [
    {
     "data": {
      "text/plain": [
       "21"
      ]
     },
     "execution_count": 163,
     "metadata": {},
     "output_type": "execute_result"
    }
   ],
   "source": [
    "part1(data=test)"
   ]
  },
  {
   "cell_type": "code",
   "execution_count": 164,
   "id": "2b77748e-6ce5-4671-9d52-2b64d6fe29f4",
   "metadata": {},
   "outputs": [
    {
     "data": {
      "text/plain": [
       "7084"
      ]
     },
     "execution_count": 164,
     "metadata": {},
     "output_type": "execute_result"
    }
   ],
   "source": [
    "part1(data=inputs)"
   ]
  },
  {
   "cell_type": "code",
   "execution_count": 170,
   "id": "19c7714d-6044-48eb-8bae-7983b8ae115f",
   "metadata": {},
   "outputs": [
    {
     "data": {
      "application/vnd.jupyter.widget-view+json": {
       "model_id": "0ad6482d1ec14bd4be9d6be6cb645e06",
       "version_major": 2,
       "version_minor": 0
      },
      "text/plain": [
       "Rows:   0%|          | 0/6 [00:00<?, ?it/s]"
      ]
     },
     "metadata": {},
     "output_type": "display_data"
    },
    {
     "data": {
      "text/plain": [
       "525152"
      ]
     },
     "execution_count": 170,
     "metadata": {},
     "output_type": "execute_result"
    }
   ],
   "source": [
    "part2(data=test)"
   ]
  },
  {
   "cell_type": "code",
   "execution_count": 171,
   "id": "fca7b832-31c2-42ad-ab72-64332d680dbd",
   "metadata": {},
   "outputs": [
    {
     "data": {
      "application/vnd.jupyter.widget-view+json": {
       "model_id": "5a7a0c06f2094546b07b9a05cf7a7501",
       "version_major": 2,
       "version_minor": 0
      },
      "text/plain": [
       "Rows:   0%|          | 0/1000 [00:00<?, ?it/s]"
      ]
     },
     "metadata": {},
     "output_type": "display_data"
    },
    {
     "data": {
      "text/plain": [
       "8414003326821"
      ]
     },
     "execution_count": 171,
     "metadata": {},
     "output_type": "execute_result"
    }
   ],
   "source": [
    "part2(data=inputs)"
   ]
  },
  {
   "cell_type": "code",
   "execution_count": null,
   "id": "180789ee-4890-44a4-8119-0218325f17f5",
   "metadata": {},
   "outputs": [],
   "source": []
  }
 ],
 "metadata": {
  "kernelspec": {
   "display_name": "Python 3 (ipykernel)",
   "language": "python",
   "name": "python3"
  },
  "language_info": {
   "codemirror_mode": {
    "name": "ipython",
    "version": 3
   },
   "file_extension": ".py",
   "mimetype": "text/x-python",
   "name": "python",
   "nbconvert_exporter": "python",
   "pygments_lexer": "ipython3",
   "version": "3.11.6"
  }
 },
 "nbformat": 4,
 "nbformat_minor": 5
}
