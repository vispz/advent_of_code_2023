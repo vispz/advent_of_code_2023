{
 "cells": [
  {
   "cell_type": "code",
   "execution_count": 18,
   "id": "9d378fef-5abe-4601-a38e-ba6150c3a8f1",
   "metadata": {},
   "outputs": [],
   "source": [
    "import itertools as it"
   ]
  },
  {
   "cell_type": "code",
   "execution_count": 19,
   "id": "a2544a8b-bafb-4036-bcd5-d1bd96905881",
   "metadata": {},
   "outputs": [],
   "source": [
    "def parse_input(fl) -> list[dict]:\n",
    "    \n",
    "    hands = []\n",
    "    with open(fl) as infile:\n",
    "        lns = list(infile.readlines())\n",
    "        dirns = lns[0].strip()\n",
    "        src2dsts = {} \n",
    "        for ln in lns[2:]:\n",
    "            # AAA = (BBB, CCC)\n",
    "            src, dsts = ln.split(\"=\")\n",
    "            lt, rt = dsts.strip().split(',')\n",
    "            src2dsts[src.strip()] = {'L': lt.strip()[1:], 'R': rt.strip()[:-1]}\n",
    "    return {\n",
    "        'dirns': dirns,\n",
    "        'src2dsts': src2dsts,\n",
    "    }"
   ]
  },
  {
   "cell_type": "code",
   "execution_count": 20,
   "id": "276cdf07-bb5b-4b27-8a39-bd9694f5c559",
   "metadata": {},
   "outputs": [
    {
     "data": {
      "text/plain": [
       "{'dirns': 'RL',\n",
       " 'src2dsts': {'AAA': {'L': 'BBB', 'R': 'CCC'},\n",
       "  'BBB': {'L': 'DDD', 'R': 'EEE'},\n",
       "  'CCC': {'L': 'ZZZ', 'R': 'GGG'},\n",
       "  'DDD': {'L': 'DDD', 'R': 'DDD'},\n",
       "  'EEE': {'L': 'EEE', 'R': 'EEE'},\n",
       "  'GGG': {'L': 'GGG', 'R': 'GGG'},\n",
       "  'ZZZ': {'L': 'ZZZ', 'R': 'ZZZ'}}}"
      ]
     },
     "execution_count": 20,
     "metadata": {},
     "output_type": "execute_result"
    }
   ],
   "source": [
    "test = parse_input(\"data/day8-test.txt\")\n",
    "inputs = parse_input(\"data/day8-input.txt\")\n",
    "test"
   ]
  },
  {
   "cell_type": "markdown",
   "id": "d975693d-ea68-4426-9d24-ec07143e43ba",
   "metadata": {},
   "source": [
    "### Part 1"
   ]
  },
  {
   "cell_type": "code",
   "execution_count": 53,
   "id": "83930a79-6a54-4fc3-b954-28c60677c653",
   "metadata": {},
   "outputs": [
    {
     "name": "stdout",
     "output_type": "stream",
     "text": [
      "[Part 1] Number of steps for a single path: 18827\n"
     ]
    }
   ],
   "source": [
    "def count_steps(data, cur_loc='AAA', ends=None):\n",
    "    if not ends:\n",
    "        ends = {'ZZZ'}\n",
    "    src2dsts = data['src2dsts']\n",
    "    step = 0\n",
    "    for d in it.cycle(data['dirns']):\n",
    "        step += 1\n",
    "        cur_loc = src2dsts[cur_loc][d]\n",
    "        if cur_loc in ends:\n",
    "            break\n",
    "    return step\n",
    "\n",
    "print(f\"[Part 1] Number of steps for a single path: {count_steps(data=inputs)}\")"
   ]
  },
  {
   "cell_type": "markdown",
   "id": "4fd8f9a3-9434-453c-bb67-a77797a7644e",
   "metadata": {},
   "source": [
    "### Part 2\n",
    "\n",
    "There are multiple starts and multiple ends. Each start independently follows to an end. We want to find the point where all starts end simultaneously. We can independantly find the number of steps to an end and then compute the LCM. This will only work if the ghosts after reaching a Z position end move to the one of the `XXA` positions."
   ]
  },
  {
   "cell_type": "code",
   "execution_count": 47,
   "id": "8ebb02bc-908c-4857-9600-dde8484527dc",
   "metadata": {},
   "outputs": [],
   "source": [
    "def lcm(a, b):\n",
    "    return a*b // hcf(a, b)\n",
    "\n",
    "def hcf(a, b):\n",
    "    # euclid's formula\n",
    "    if a > b:\n",
    "        a, b = b, a\n",
    "    if a == 0:\n",
    "        return b\n",
    "    return hcf(b%a, a)"
   ]
  },
  {
   "cell_type": "code",
   "execution_count": 48,
   "id": "5748b75a-484b-4ab1-9e27-ac440864edb4",
   "metadata": {},
   "outputs": [],
   "source": [
    "data = inputs # test"
   ]
  },
  {
   "cell_type": "code",
   "execution_count": 55,
   "id": "a6201d11-c94c-4894-887b-23bcb9d5cb3e",
   "metadata": {},
   "outputs": [
    {
     "name": "stdout",
     "output_type": "stream",
     "text": [
      "len(starts)=6\tlen(ends)=6\n",
      "Source to number of steps to an end: {'NNA': 22199, 'LBA': 12083, 'QVA': 19951, 'AAA': 18827, 'KLA': 17141, 'NDA': 20513}\n",
      "\n",
      "[Part 2] Number of steps for all ghosts to reach an end simultaneously: 20220305520997\n"
     ]
    }
   ],
   "source": [
    "# map of each **A start to any **Z end step\n",
    "start2steps = {}\n",
    "starts = {s for s in data[\"src2dsts\"] if s.endswith('A')}\n",
    "ends = {e for e in data[\"src2dsts\"] if e.endswith('Z')}\n",
    "print(f\"{len(starts)=}\\t{len(ends)=}\")\n",
    "st2steps = {\n",
    "    s: count_steps(data, cur_loc=s, ends=ends)\n",
    "    for s in starts\n",
    "}\n",
    "print(f\"Source to number of steps to an end: {st2steps}\")\n",
    "# LCM of all steps\n",
    "all_steps = list(st2steps.values())\n",
    "lcm_all = lcm(all_steps[0], all_steps[1])\n",
    "for s in all_steps[2:]:\n",
    "    lcm_all = lcm(lcm_all, s)\n",
    "print(f\"\\n[Part 2] Number of steps for all ghosts to reach an end simultaneously: {lcm_all}\")"
   ]
  },
  {
   "cell_type": "code",
   "execution_count": null,
   "id": "32e7a8dc-d2c7-49dc-8171-5bf8ae4bb56d",
   "metadata": {},
   "outputs": [],
   "source": []
  }
 ],
 "metadata": {
  "kernelspec": {
   "display_name": "Python 3 (ipykernel)",
   "language": "python",
   "name": "python3"
  },
  "language_info": {
   "codemirror_mode": {
    "name": "ipython",
    "version": 3
   },
   "file_extension": ".py",
   "mimetype": "text/x-python",
   "name": "python",
   "nbconvert_exporter": "python",
   "pygments_lexer": "ipython3",
   "version": "3.11.6"
  }
 },
 "nbformat": 4,
 "nbformat_minor": 5
}
