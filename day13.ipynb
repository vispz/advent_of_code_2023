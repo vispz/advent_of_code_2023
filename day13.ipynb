{
 "cells": [
  {
   "cell_type": "code",
   "execution_count": 74,
   "id": "a75fd551-4422-4049-8469-7e3a9d8ad759",
   "metadata": {},
   "outputs": [],
   "source": [
    "import numpy as np\n",
    "import itertools as it\n",
    "import functools as ft\n",
    "import copy"
   ]
  },
  {
   "cell_type": "code",
   "execution_count": 69,
   "id": "a42e0c70-a495-4e56-bc1e-5620136addd8",
   "metadata": {},
   "outputs": [],
   "source": [
    "def parse_input(fl) -> list[np.array]:\n",
    "    grids = []\n",
    "    with open(fl) as infile:\n",
    "        chunk = []\n",
    "        for ln in infile.readlines():\n",
    "            ln = ln.strip()\n",
    "            if not ln:\n",
    "                grids.append(np.array(chunk))\n",
    "                chunk = []\n",
    "            else:\n",
    "                chunk.append(list(ln))\n",
    "        grids.append(np.array(chunk))\n",
    "    return grids"
   ]
  },
  {
   "cell_type": "code",
   "execution_count": 70,
   "id": "2dd73fc2-e771-4f90-99e1-50f3122196fd",
   "metadata": {},
   "outputs": [
    {
     "data": {
      "text/plain": [
       "[array([['#', '.', '#', '#', '.', '.', '#', '#', '.'],\n",
       "        ['.', '.', '#', '.', '#', '#', '.', '#', '.'],\n",
       "        ['#', '#', '.', '.', '.', '.', '.', '.', '#'],\n",
       "        ['#', '#', '.', '.', '.', '.', '.', '.', '#'],\n",
       "        ['.', '.', '#', '.', '#', '#', '.', '#', '.'],\n",
       "        ['.', '.', '#', '#', '.', '.', '#', '#', '.'],\n",
       "        ['#', '.', '#', '.', '#', '#', '.', '#', '.']], dtype='<U1'),\n",
       " array([['#', '.', '.', '.', '#', '#', '.', '.', '#'],\n",
       "        ['#', '.', '.', '.', '.', '#', '.', '.', '#'],\n",
       "        ['.', '.', '#', '#', '.', '.', '#', '#', '#'],\n",
       "        ['#', '#', '#', '#', '#', '.', '#', '#', '.'],\n",
       "        ['#', '#', '#', '#', '#', '.', '#', '#', '.'],\n",
       "        ['.', '.', '#', '#', '.', '.', '#', '#', '#'],\n",
       "        ['#', '.', '.', '.', '.', '#', '.', '.', '#']], dtype='<U1')]"
      ]
     },
     "execution_count": 70,
     "metadata": {},
     "output_type": "execute_result"
    }
   ],
   "source": [
    "test = parse_input(\"data/day13-test.txt\")\n",
    "inputs = parse_input(\"data/day13-input.txt\")\n",
    "test"
   ]
  },
  {
   "cell_type": "markdown",
   "id": "070e5acc-4acb-4571-a152-7189a0a67d03",
   "metadata": {},
   "source": [
    "###### Test\n",
    "\n",
    "i i+1 e=2i+2\n",
    "\n",
    "```\n",
    "0      0         1          (0:i+1,  i+1:2i+2) => (0:1, 1:2)\n",
    "1      0 1       2 3                           => (0:2, 2:4)\n",
    "2      0 1 2     3 4 5                         => (0:3, 3:6)\n",
    "3      0 1 2 3   4 5 6 7                       => (0:4, 4:8)\n",
    "\n",
    "```"
   ]
  },
  {
   "cell_type": "code",
   "execution_count": 71,
   "id": "2b57e9d0-8e1c-48f3-a337-5a86e39556a4",
   "metadata": {},
   "outputs": [],
   "source": [
    "def solve(grids, modify=False):\n",
    "    tot = 0\n",
    "    for g in grids:\n",
    "        vert_col = num_match_cols(g, modify=modify)\n",
    "        if vert_col is not None:\n",
    "            tot += vert_col\n",
    "        else:\n",
    "            tot += 100*num_match_cols(g.transpose(), modify=modify)\n",
    "    return tot\n",
    "\n",
    "def num_match_cols(grid, modify=False):\n",
    "    grid = copy.deepcopy(grid)\n",
    "    m, n = grid.shape\n",
    "    for i in range(n-1):\n",
    "        # compare the first i columns (0-ixed) with the `i+1:(i+1)+(i+1)`\n",
    "        # columns reversed\n",
    "        lt_st = max(0, 2*i+2 - n)\n",
    "        lt, rt = grid[:,lt_st:i+1], grid[:,i+1:2*i+2][:,::-1]\n",
    "        if not modify:\n",
    "            iter_lt_rt = [(lt, rt)]\n",
    "        else:\n",
    "            iter_lt_rt = _gen_mutants(lt, rt)\n",
    "        for _lt, _rt in iter_lt_rt:\n",
    "            if np.array_equal(_lt,_rt):\n",
    "                return i+1\n",
    "    else:\n",
    "        return None\n",
    "\n",
    "\n",
    "def _gen_mutants(lt, rt):\n",
    "    m, n = lt.shape\n",
    "    for cur_side, other_side in [(lt, rt), (rt, lt)]:\n",
    "        for i, j in it.product(range(m), range(n)):\n",
    "            cur = cur_side[i, j]\n",
    "            cur_side[i, j] = '.' if cur == '#' else '#'\n",
    "            yield (cur_side, other_side)\n",
    "            cur_side[i, j] = cur"
   ]
  },
  {
   "cell_type": "code",
   "execution_count": 72,
   "id": "1ee600a8-1a0f-448a-8b82-b1a1cda328c9",
   "metadata": {},
   "outputs": [
    {
     "data": {
      "text/plain": [
       "(405, 27300)"
      ]
     },
     "execution_count": 72,
     "metadata": {},
     "output_type": "execute_result"
    }
   ],
   "source": [
    "solve(test), solve(inputs)"
   ]
  },
  {
   "cell_type": "code",
   "execution_count": 73,
   "id": "156090cf-fd22-4976-bfd9-e51eed4221b6",
   "metadata": {},
   "outputs": [
    {
     "data": {
      "text/plain": [
       "(400, 29276)"
      ]
     },
     "execution_count": 73,
     "metadata": {},
     "output_type": "execute_result"
    }
   ],
   "source": [
    "solve(test, modify=True), solve(inputs, modify=True)"
   ]
  },
  {
   "cell_type": "code",
   "execution_count": null,
   "id": "759ce035-6db0-42a4-95ce-951fe1af8bc7",
   "metadata": {},
   "outputs": [],
   "source": []
  }
 ],
 "metadata": {
  "kernelspec": {
   "display_name": "Python 3 (ipykernel)",
   "language": "python",
   "name": "python3"
  },
  "language_info": {
   "codemirror_mode": {
    "name": "ipython",
    "version": 3
   },
   "file_extension": ".py",
   "mimetype": "text/x-python",
   "name": "python",
   "nbconvert_exporter": "python",
   "pygments_lexer": "ipython3",
   "version": "3.11.6"
  }
 },
 "nbformat": 4,
 "nbformat_minor": 5
}
