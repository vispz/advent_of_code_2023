{
 "cells": [
  {
   "cell_type": "markdown",
   "id": "ea92abf9-a0ef-4157-b082-c633df2dc9e2",
   "metadata": {},
   "source": [
    "### Part 1"
   ]
  },
  {
   "cell_type": "code",
   "execution_count": 41,
   "id": "1d04be3b-13cb-4a35-82d8-07075bcf7a01",
   "metadata": {},
   "outputs": [],
   "source": [
    "from collections import defaultdict"
   ]
  },
  {
   "cell_type": "code",
   "execution_count": 33,
   "id": "e0e8b57b-5531-451f-9760-d52914ce9b32",
   "metadata": {},
   "outputs": [],
   "source": [
    "def parse_input(_iter_lns) -> list[dict]:\n",
    "    \"\"\"\n",
    "    [\n",
    "        {\n",
    "            \"id\": 1,\n",
    "            \"sets\": [\n",
    "                {\n",
    "                    \"red\": 4,\n",
    "                    \"green\": 1,\n",
    "                    \"blue\": 0,\n",
    "                }\n",
    "            ],\n",
    "            ...\n",
    "        }\n",
    "    ]\n",
    "    \"\"\"\n",
    "    return [_parse_ln(ln) for ln in _iter_lns]\n",
    "\n",
    "def _parse_ln(ln):\n",
    "    # Game 1: 3 blue, 4 red; 1 red, 2 green, 6 blue; 2 green\n",
    "    title, plays = ln.split(\":\")\n",
    "    game_id = int(title.split()[1])\n",
    "    sets = []\n",
    "    for rnd in plays.split(\";\"):\n",
    "        each_set = {}\n",
    "        sets.append(each_set)\n",
    "        for cube_cnt in rnd.strip().split(','):\n",
    "            cnt, colour = cube_cnt.strip().split(' ')\n",
    "            each_set[colour] = int(cnt)\n",
    "    return {\n",
    "        \"id\": game_id,\n",
    "        \"sets\": sets,\n",
    "    }\n",
    "\n",
    "def _iter_fl(fl):\n",
    "    with open(fl) as infile:\n",
    "        yield from infile.readlines()"
   ]
  },
  {
   "cell_type": "code",
   "execution_count": 30,
   "id": "d3fe589b-6626-49d4-8330-a9b45a9b6387",
   "metadata": {},
   "outputs": [],
   "source": [
    "test = [\n",
    "    \"Game 1: 3 blue, 4 red; 1 red, 2 green, 6 blue; 2 green\",\n",
    "    \"Game 2: 1 blue, 2 green; 3 green, 4 blue, 1 red; 1 green, 1 blue\",\n",
    "    \"Game 3: 8 green, 6 blue, 20 red; 5 blue, 4 red, 13 green; 5 green, 1 red\",\n",
    "    \"Game 4: 1 green, 3 red, 6 blue; 3 green, 6 red; 3 green, 15 blue, 14 red\",\n",
    "    \"Game 5: 6 red, 1 blue, 3 green; 2 blue, 1 red, 2 green\",\n",
    "]\n",
    "test_tot_cubes = {\n",
    "    \"red\": 12,\n",
    "    \"green\": 13,\n",
    "    \"blue\": 14,\n",
    "}"
   ]
  },
  {
   "cell_type": "code",
   "execution_count": 38,
   "id": "edf09953-eaf1-4c84-8cd8-913cac51180c",
   "metadata": {},
   "outputs": [
    {
     "data": {
      "text/plain": [
       "[{'id': 1,\n",
       "  'sets': [{'blue': 3, 'red': 4},\n",
       "   {'red': 1, 'green': 2, 'blue': 6},\n",
       "   {'green': 2}]},\n",
       " {'id': 2,\n",
       "  'sets': [{'blue': 1, 'green': 2},\n",
       "   {'green': 3, 'blue': 4, 'red': 1},\n",
       "   {'green': 1, 'blue': 1}]},\n",
       " {'id': 3,\n",
       "  'sets': [{'green': 8, 'blue': 6, 'red': 20},\n",
       "   {'blue': 5, 'red': 4, 'green': 13},\n",
       "   {'green': 5, 'red': 1}]},\n",
       " {'id': 4,\n",
       "  'sets': [{'green': 1, 'red': 3, 'blue': 6},\n",
       "   {'green': 3, 'red': 6},\n",
       "   {'green': 3, 'blue': 15, 'red': 14}]},\n",
       " {'id': 5,\n",
       "  'sets': [{'red': 6, 'blue': 1, 'green': 3},\n",
       "   {'blue': 2, 'red': 1, 'green': 2}]}]"
      ]
     },
     "execution_count": 38,
     "metadata": {},
     "output_type": "execute_result"
    }
   ],
   "source": [
    "test_games = parse_input(test)\n",
    "input_games = parse_input(_iter_fl(fl=\"data/day2-input.txt\"))\n",
    "test_games"
   ]
  },
  {
   "cell_type": "code",
   "execution_count": 29,
   "id": "26700287-aaf3-4428-bb60-5d4bd744ae5a",
   "metadata": {},
   "outputs": [],
   "source": [
    "def valid_games(games, tot_cubes):\n",
    "    return sum(\n",
    "        g[\"id\"]\n",
    "        for g in games\n",
    "        if _is_valid_game(game_sets=g[\"sets\"], tot_cubes=tot_cubes)\n",
    "    )\n",
    "\n",
    "def _is_valid_game(game_sets, tot_cubes):\n",
    "    for gset in game_sets:\n",
    "        for colour, cnt in gset.items():\n",
    "            if colour not in tot_cubes:\n",
    "                return False\n",
    "            if cnt > tot_cubes[colour]:\n",
    "                return False\n",
    "    else:\n",
    "        return True"
   ]
  },
  {
   "cell_type": "code",
   "execution_count": 53,
   "id": "bc96fa45-99ab-4ee1-9f76-3ead8c72f57e",
   "metadata": {},
   "outputs": [
    {
     "name": "stdout",
     "output_type": "stream",
     "text": [
      "test 8\n",
      "input 3099\n"
     ]
    }
   ],
   "source": [
    "# test\n",
    "print(\"test\", valid_games(test_games, tot_cubes=test_tot_cubes))\n",
    "print(\"input\", valid_games(input_games, tot_cubes=test_tot_cubes))"
   ]
  },
  {
   "cell_type": "markdown",
   "id": "877bba2c-acba-452b-b18b-af363139fbc1",
   "metadata": {},
   "source": [
    "### Part 2"
   ]
  },
  {
   "cell_type": "code",
   "execution_count": 49,
   "id": "de89abe8-108a-49d6-8273-42d206053c85",
   "metadata": {},
   "outputs": [],
   "source": [
    "def _power_of_set(gsets):\n",
    "    max_cnt_map = defaultdict(int)\n",
    "    for gs in gsets:\n",
    "        for colour, cnt in gs.items():\n",
    "            max_cnt_map[colour] = max(max_cnt_map[colour], cnt)\n",
    "    prod = 1\n",
    "    for cnt in max_cnt_map.values():\n",
    "        prod *= cnt\n",
    "    return prod\n",
    "\n",
    "def power_of_games(games):\n",
    "    return sum(_power_of_set(g[\"sets\"]) for g in games)"
   ]
  },
  {
   "cell_type": "code",
   "execution_count": 52,
   "id": "39d0c6aa-863c-4aca-a439-d1df74620f4d",
   "metadata": {},
   "outputs": [
    {
     "name": "stdout",
     "output_type": "stream",
     "text": [
      "test 2286\n",
      "input 72970\n"
     ]
    }
   ],
   "source": [
    "print(\"test\", power_of_games(test_games))\n",
    "print(\"input\", power_of_games(input_games))"
   ]
  },
  {
   "cell_type": "code",
   "execution_count": null,
   "id": "2f3c9ef5-9367-4162-b91f-5724fc2e60b8",
   "metadata": {},
   "outputs": [],
   "source": []
  }
 ],
 "metadata": {
  "kernelspec": {
   "display_name": "Python 3 (ipykernel)",
   "language": "python",
   "name": "python3"
  },
  "language_info": {
   "codemirror_mode": {
    "name": "ipython",
    "version": 3
   },
   "file_extension": ".py",
   "mimetype": "text/x-python",
   "name": "python",
   "nbconvert_exporter": "python",
   "pygments_lexer": "ipython3",
   "version": "3.11.6"
  }
 },
 "nbformat": 4,
 "nbformat_minor": 5
}
