{
 "cells": [
  {
   "cell_type": "code",
   "execution_count": 1,
   "id": "a75fd551-4422-4049-8469-7e3a9d8ad759",
   "metadata": {},
   "outputs": [],
   "source": [
    "import dataclasses\n",
    "from typing import *"
   ]
  },
  {
   "cell_type": "code",
   "execution_count": 2,
   "id": "a42e0c70-a495-4e56-bc1e-5620136addd8",
   "metadata": {},
   "outputs": [],
   "source": [
    "def parse_input(fl):\n",
    "    return open(fl).read().replace(\"\\n\", \"\").strip().split(\",\")"
   ]
  },
  {
   "cell_type": "code",
   "execution_count": 3,
   "id": "d2c67ebe-9d54-40e7-992e-19f3f97190cf",
   "metadata": {},
   "outputs": [
    {
     "data": {
      "text/plain": [
       "['rn=1',\n",
       " 'cm-',\n",
       " 'qp=3',\n",
       " 'cm=2',\n",
       " 'qp-',\n",
       " 'pc=4',\n",
       " 'ot=9',\n",
       " 'ab=5',\n",
       " 'pc-',\n",
       " 'pc=6',\n",
       " 'ot=7']"
      ]
     },
     "execution_count": 3,
     "metadata": {},
     "output_type": "execute_result"
    }
   ],
   "source": [
    "test = parse_input(\"data/day15-test.txt\")\n",
    "inputs = parse_input(\"data/day15-input.txt\")\n",
    "test"
   ]
  },
  {
   "cell_type": "code",
   "execution_count": 4,
   "id": "5ab27834-20e4-421e-8edb-62cb77d4bed8",
   "metadata": {},
   "outputs": [],
   "source": [
    "def part1(codes):\n",
    "    return sum(sha256(c) for c in codes)\n",
    "\n",
    "def sha256(code):\n",
    "    tot = 0\n",
    "    for ch in code:\n",
    "        tot += ord(ch)\n",
    "        tot *= 17\n",
    "        tot %= 256\n",
    "    return tot"
   ]
  },
  {
   "cell_type": "code",
   "execution_count": 5,
   "id": "16e45844-bc61-4c29-aa48-4fca5331959e",
   "metadata": {},
   "outputs": [
    {
     "data": {
      "text/plain": [
       "(1320, 506269)"
      ]
     },
     "execution_count": 5,
     "metadata": {},
     "output_type": "execute_result"
    }
   ],
   "source": [
    "part1(test), part1(inputs)"
   ]
  },
  {
   "cell_type": "code",
   "execution_count": 6,
   "id": "67d136b0-adba-4097-b7a4-498b5cdfa5f0",
   "metadata": {},
   "outputs": [],
   "source": [
    "@dataclasses.dataclass\n",
    "class LN:\n",
    "    val: Any = None\n",
    "    prev: 'LN' = None\n",
    "    next: 'LN' = None\n",
    "\n",
    "    def __repr__(self):\n",
    "        return f\"LN{self.val}\"\n",
    "\n",
    "@dataclasses.dataclass\n",
    "class HashMap:\n",
    "    \"\"\"Implement hashmap with lists of doubly linked-list\n",
    "    \"\"\"\n",
    "\n",
    "    sz: int = 256\n",
    "    # list of hashboxes containing head and tail of each node.\n",
    "    _boxes: list[tuple[LN, LN]] = dataclasses.field(init=False)\n",
    "    _box2lbl2node: list[dict[str, LN]] = dataclasses.field(init=False)\n",
    "\n",
    "    def __post_init__(self):\n",
    "        self._boxes = []\n",
    "        for _ in range(self.sz):\n",
    "            # sentinal is both head and tail\n",
    "            s = LN()\n",
    "            self._boxes.append((s, s))\n",
    "        self._box2lbl2node = [{} for _ in range(self.sz)]\n",
    "\n",
    "    def __setitem__(self, k, v):\n",
    "        ix = sha256(k)\n",
    "        lbl2node = self._box2lbl2node[ix]\n",
    "        if k in lbl2node:\n",
    "            lbl2node[k].val = (k, v)\n",
    "        else:\n",
    "            h, t = self._boxes[ix]\n",
    "            new_node = LN(val=(k, v), prev=t)\n",
    "            t.next = new_node\n",
    "            self._boxes[ix] = (h, new_node)\n",
    "            lbl2node[k] = new_node\n",
    "\n",
    "    def __delitem__(self, k):\n",
    "        ix = sha256(k)\n",
    "        lbl2node = self._box2lbl2node[ix]\n",
    "        if k not in lbl2node:\n",
    "            return\n",
    "        n = lbl2node.pop(k)\n",
    "        # n.prev can't be none thanks to sentinel\n",
    "        n.prev.next = n.next\n",
    "        if n.next is not None:\n",
    "            n.next.prev = n.prev\n",
    "        else:\n",
    "            # if n is the tail node\n",
    "            h, t = self._boxes[ix]\n",
    "            assert n==t\n",
    "            self._boxes[ix] = (h, n.prev)\n",
    "    \n",
    "    def __repr__(self):\n",
    "        return f\"HM(\\n{self._boxes=}\\n\\n{self._box2lbl2node=}\\n)\""
   ]
  },
  {
   "cell_type": "code",
   "execution_count": 7,
   "id": "bf38f9ac-2bd8-4456-a90e-a696de2dc90e",
   "metadata": {},
   "outputs": [],
   "source": [
    "def part2(codes, hashmap_sz=256):\n",
    "    hm = HashMap(sz=hashmap_sz)\n",
    "    for c in codes:\n",
    "        if '-' in c:\n",
    "            del hm[c[:-1]]\n",
    "        elif '=' in c:\n",
    "            k, v = c.split('=')\n",
    "            hm[k] = int(v)\n",
    "        else:\n",
    "            raise NotImplementedError()\n",
    "    return {\"hm\": hm, \"score\": _score_hm(hm=hm)}\n",
    "\n",
    "def _score_hm(hm):\n",
    "    tot = 0\n",
    "    for i, (bh, _) in enumerate(hm._boxes, start=1):\n",
    "        slot_num = 1\n",
    "        # skip sentinel\n",
    "        c = bh.next\n",
    "        while c is not None:\n",
    "            # single lens\n",
    "            tot += i * slot_num * c.val[1]\n",
    "            slot_num += 1\n",
    "            c = c.next\n",
    "    return tot"
   ]
  },
  {
   "cell_type": "code",
   "execution_count": 8,
   "id": "812effb4-0c04-4dde-82d5-a46249c92a5e",
   "metadata": {},
   "outputs": [
    {
     "data": {
      "text/plain": [
       "{'hm': HM(\n",
       " self._boxes=[(LNNone, LN('cm', 2)), (LNNone, LNNone), (LNNone, LNNone), (LNNone, LN('pc', 6))]\n",
       " \n",
       " self._box2lbl2node=[{'rn': LN('rn', 1), 'cm': LN('cm', 2)}, {}, {}, {'ot': LN('ot', 7), 'ab': LN('ab', 5), 'pc': LN('pc', 6)}]\n",
       " ),\n",
       " 'score': 145}"
      ]
     },
     "execution_count": 8,
     "metadata": {},
     "output_type": "execute_result"
    }
   ],
   "source": [
    "p2_test_res = part2(codes=test, hashmap_sz=4)\n",
    "p2_test_res"
   ]
  },
  {
   "cell_type": "code",
   "execution_count": 9,
   "id": "cef9c2fa-0c81-474a-82fa-83e05a700e04",
   "metadata": {},
   "outputs": [
    {
     "data": {
      "text/plain": [
       "264021"
      ]
     },
     "execution_count": 9,
     "metadata": {},
     "output_type": "execute_result"
    }
   ],
   "source": [
    "p2_input_res = part2(codes=inputs)\n",
    "p2_input_res['score']"
   ]
  },
  {
   "cell_type": "code",
   "execution_count": null,
   "id": "b932665e-8303-47b3-90b6-6204b9ae4a35",
   "metadata": {},
   "outputs": [],
   "source": []
  }
 ],
 "metadata": {
  "kernelspec": {
   "display_name": "Python 3 (ipykernel)",
   "language": "python",
   "name": "python3"
  },
  "language_info": {
   "codemirror_mode": {
    "name": "ipython",
    "version": 3
   },
   "file_extension": ".py",
   "mimetype": "text/x-python",
   "name": "python",
   "nbconvert_exporter": "python",
   "pygments_lexer": "ipython3",
   "version": "3.11.6"
  }
 },
 "nbformat": 4,
 "nbformat_minor": 5
}
