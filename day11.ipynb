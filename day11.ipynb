{
 "cells": [
  {
   "cell_type": "code",
   "execution_count": 97,
   "id": "00e838a7-14a3-42a8-aaab-fedfd4611403",
   "metadata": {},
   "outputs": [],
   "source": [
    "import numpy as np\n",
    "import itertools as it\n",
    "from copy import deepcopy\n",
    "\n",
    "np.set_printoptions(edgeitems=30, linewidth=100000, \n",
    "    formatter=dict(float=lambda x: \"%.3g\" % x))"
   ]
  },
  {
   "cell_type": "code",
   "execution_count": 2,
   "id": "1af7c144-40a0-4da9-b17b-3a5bc8a33179",
   "metadata": {},
   "outputs": [],
   "source": [
    "def load_fl(fl):\n",
    "    return np.array([list(l.strip()) for l in open(fl).readlines()])"
   ]
  },
  {
   "cell_type": "code",
   "execution_count": 3,
   "id": "b7bbb23d-6631-4ec1-bfd3-46a1ac89a54a",
   "metadata": {},
   "outputs": [
    {
     "data": {
      "text/plain": [
       "array([['.', '.', '.', '#', '.', '.', '.', '.', '.', '.'],\n",
       "       ['.', '.', '.', '.', '.', '.', '.', '#', '.', '.'],\n",
       "       ['#', '.', '.', '.', '.', '.', '.', '.', '.', '.'],\n",
       "       ['.', '.', '.', '.', '.', '.', '.', '.', '.', '.'],\n",
       "       ['.', '.', '.', '.', '.', '.', '#', '.', '.', '.'],\n",
       "       ['.', '#', '.', '.', '.', '.', '.', '.', '.', '.'],\n",
       "       ['.', '.', '.', '.', '.', '.', '.', '.', '.', '#'],\n",
       "       ['.', '.', '.', '.', '.', '.', '.', '.', '.', '.'],\n",
       "       ['.', '.', '.', '.', '.', '.', '.', '#', '.', '.'],\n",
       "       ['#', '.', '.', '.', '#', '.', '.', '.', '.', '.']], dtype='<U1')"
      ]
     },
     "execution_count": 3,
     "metadata": {},
     "output_type": "execute_result"
    }
   ],
   "source": [
    "test = load_fl('data/day11-test.txt')\n",
    "inputs = load_fl('data/day11-input.txt')\n",
    "test"
   ]
  },
  {
   "cell_type": "code",
   "execution_count": 189,
   "id": "84632baa-5beb-4060-87a1-4b65af162072",
   "metadata": {},
   "outputs": [],
   "source": [
    "def solve(grid, add_expansion=True, expansion_sz=2):\n",
    "    row_ng, col_ng = non_galaxy_rc(grid)\n",
    "    gixes = _galaxy_ixes(grid)\n",
    "    pair2dist = {}\n",
    "    d = 0\n",
    "    for g1, g2 in sorted(it.combinations(gixes, 2)):\n",
    "        pair2dist[(g1, g2)] = _get_each_dist(\n",
    "            g1=g1,\n",
    "            g2=g2,\n",
    "            row_ng=row_ng,\n",
    "            col_ng=col_ng,\n",
    "            add_expansion=add_expansion,\n",
    "            expansion_sz=expansion_sz,\n",
    "        )\n",
    "        d += pair2dist[(g1, g2)]\n",
    "    return {'dist': d, 'pair2dist': pair2dist}\n",
    "\n",
    "def _get_each_dist(g1, g2, row_ng, col_ng, add_expansion, expansion_sz):\n",
    "    this_d = np.abs(g1[0]-g2[0]) + np.abs(g1[1]-g2[1])\n",
    "    # expansion handling\n",
    "    if add_expansion:\n",
    "        this_d += (expansion_sz-1) * _cnt_expansion(g1=g1[0], g2=g2[0], expanded_ixes=row_ng)\n",
    "        this_d += (expansion_sz-1) * _cnt_expansion(g1=g1[1], g2=g2[1], expanded_ixes=col_ng)\n",
    "    return this_d\n",
    "\n",
    "def _galaxy_ixes(grid):\n",
    "    return sorted(zip(*np.where(grid == '#')))\n",
    "\n",
    "def _non_galaxy_rc(grid):\n",
    "    is_galaxy = (grid == '#')\n",
    "    col_sum = is_galaxy.sum(axis=0)\n",
    "    row_sum = is_galaxy.sum(axis=1)\n",
    "    return np.unique(np.where(row_sum==0)), np.unique(np.where(col_sum==0))\n",
    "\n",
    "def _cnt_expansion(g1: int, g2: int, expanded_ixes: np.array) -> int:\n",
    "    if g1 > g2:\n",
    "        g1, g2 = g2, g1\n",
    "    return ((g1 < expanded_ixes) & (expanded_ixes < g2)).sum()"
   ]
  },
  {
   "cell_type": "code",
   "execution_count": 203,
   "id": "93e956c5-8b74-4844-bf81-0884157d4024",
   "metadata": {},
   "outputs": [
    {
     "data": {
      "text/plain": [
       "9608724"
      ]
     },
     "execution_count": 203,
     "metadata": {},
     "output_type": "execute_result"
    }
   ],
   "source": [
    "solve(grid=inputs)['dist']"
   ]
  },
  {
   "cell_type": "code",
   "execution_count": 204,
   "id": "ae663a33-4951-4400-b66f-29eef2ee479c",
   "metadata": {},
   "outputs": [
    {
     "data": {
      "text/plain": [
       "904633799472"
      ]
     },
     "execution_count": 204,
     "metadata": {},
     "output_type": "execute_result"
    }
   ],
   "source": [
    "solve(grid=inputs, add_expansion=True, expansion_sz=1000_000)['dist']"
   ]
  },
  {
   "cell_type": "code",
   "execution_count": null,
   "id": "d514f3b3-46a3-4e9f-abb9-ffccd9e39d11",
   "metadata": {},
   "outputs": [],
   "source": []
  }
 ],
 "metadata": {
  "kernelspec": {
   "display_name": "Python 3 (ipykernel)",
   "language": "python",
   "name": "python3"
  },
  "language_info": {
   "codemirror_mode": {
    "name": "ipython",
    "version": 3
   },
   "file_extension": ".py",
   "mimetype": "text/x-python",
   "name": "python",
   "nbconvert_exporter": "python",
   "pygments_lexer": "ipython3",
   "version": "3.11.6"
  }
 },
 "nbformat": 4,
 "nbformat_minor": 5
}
