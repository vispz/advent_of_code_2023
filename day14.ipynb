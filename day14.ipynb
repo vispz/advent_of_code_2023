{
 "cells": [
  {
   "cell_type": "code",
   "execution_count": 101,
   "id": "a75fd551-4422-4049-8469-7e3a9d8ad759",
   "metadata": {},
   "outputs": [],
   "source": [
    "import numpy as np\n",
    "import itertools as it\n",
    "import functools as ft\n",
    "import sortedcontainers as sc\n",
    "import copy\n",
    "from tqdm.notebook import tqdm\n"
   ]
  },
  {
   "cell_type": "code",
   "execution_count": 5,
   "id": "a42e0c70-a495-4e56-bc1e-5620136addd8",
   "metadata": {},
   "outputs": [],
   "source": [
    "def parse_input(fl) -> list[np.array]:\n",
    "    grid = []\n",
    "    with open(fl) as infile:\n",
    "        for ln in infile.readlines():\n",
    "            grid.append(list(ln.strip()))\n",
    "    return np.array(grid)"
   ]
  },
  {
   "cell_type": "code",
   "execution_count": 206,
   "id": "1b47ce9c-c9ee-4070-97a0-768aecc4810d",
   "metadata": {},
   "outputs": [],
   "source": [
    "def solve_p1(grid):\n",
    "    nrows, ncols = grid.shape\n",
    "    ixes = move_dirn(\n",
    "        ixes=grid_to_ixes(grid),\n",
    "        dirn='N',\n",
    "        nrows=nrows,\n",
    "        ncols=ncols,\n",
    "        rebuild_grid=False,\n",
    "    )['ixes']\n",
    "    return _compute_load(ixes=ixes, nrows=nrows)\n",
    "\n",
    "def solve_p2(grid, num_cycles):\n",
    "    nrows, ncols = grid.shape\n",
    "    ixes = grid_to_ixes(grid)\n",
    "    state2lseen = {}\n",
    "    nc_seen = 0\n",
    "    period = None\n",
    "    for c in tqdm(range(num_cycles), desc='Cycles'):\n",
    "        nc_seen += 1\n",
    "        ixes = cycle(\n",
    "            ixes=ixes,\n",
    "            nrows=nrows,\n",
    "            ncols=ncols,\n",
    "        )['ixes']\n",
    "        state = tuple(sorted((ix[0], ix[1]) for ix in ixes if ix[2] == 'O'))\n",
    "        if state not in state2lseen:\n",
    "            # no period found yet\n",
    "            state2lseen[state] = c\n",
    "        else:\n",
    "            # period found\n",
    "            period = c - state2lseen[state]\n",
    "            break\n",
    "    cycles_to_go = num_cycles - (c+1)\n",
    "    remainder_cycles = cycles_to_go % period\n",
    "    for c in tqdm(range(remainder_cycles), desc='Rem cycles'):\n",
    "        res = cycle(\n",
    "            ixes=ixes,\n",
    "            nrows=nrows,\n",
    "            ncols=ncols,\n",
    "        )\n",
    "        ixes = res['ixes']\n",
    "    return {\n",
    "        \"grid\": _build_grid(ixes=ixes, nrows=nrows, ncols=ncols),\n",
    "        \"load\": _compute_load(ixes=ixes, nrows=nrows)\n",
    "    }\n",
    "\n",
    "def _compute_load(ixes, nrows):\n",
    "    # filter by `O` type and fetch the row indices\n",
    "    #   ixes has rows of [r, c, sym] ex: [1, 3, '#']\n",
    "    ixes = np.array(ixes)\n",
    "    O_rix = ixes[ixes[:,2]=='O'][:,0].astype(np.int32)\n",
    "    return (nrows-O_rix).sum()\n",
    "\n",
    "def grid_to_ixes(grid):\n",
    "    nrows, ncols = grid.shape\n",
    "    O_ix = _get_sym_ixes(grid, sym='O', append_sym=True)\n",
    "    H_ix = _get_sym_ixes(grid, sym='#', append_sym=True)\n",
    "    # we want to mutate position of O_ix\n",
    "    ixes = sorted(\n",
    "        (\n",
    "            # first and last col \n",
    "            [[r,-1, '-'] for r in range(nrows)]\n",
    "            + [[r,ncols, '-'] for r in range(nrows)]\n",
    "            # first and last row\n",
    "            + [[-1, c, '-'] for c in range(ncols)]\n",
    "            + [[nrows, c, '-'] for c in range(ncols)]\n",
    "            # Fixed and round rocks\n",
    "            + [list(hix) for hix in H_ix]\n",
    "            + [list(oix) for oix in O_ix]\n",
    "        ),\n",
    "    )\n",
    "    return ixes\n",
    "\n",
    "def _get_sym_ixes(grid, sym, append_sym=False):\n",
    "    rix, cix = np.where(grid==sym)\n",
    "    if append_sym:\n",
    "        return list(zip(rix, cix, [sym]*len(rix)))\n",
    "    else:\n",
    "        return list(zip(rix, cix))\n",
    "\n",
    "\n",
    "def cycle(ixes, nrows, ncols, rebuild_grid=False, debug=False):\n",
    "    move_fn = ft.partial(move_dirn, nrows=nrows, ncols=ncols, rebuild_grid=rebuild_grid)\n",
    "    for d in ['N', 'W', 'S', 'E']:\n",
    "        res = move_fn(ixes=ixes, dirn=d)\n",
    "        ixes = res['ixes']\n",
    "        if debug:\n",
    "            print(f\"After {d}\")\n",
    "            print(res['grid'])\n",
    "            print('\\n-----------\\n')\n",
    "    return res\n",
    "\n",
    "\n",
    "def move_dirn(ixes, dirn, nrows, ncols, rebuild_grid=False):\n",
    "    match dirn:\n",
    "        case 'N':\n",
    "            ixes = _move_dirn_helper(\n",
    "                ixes=ixes,\n",
    "                new_O_pos_fn=lambda prev_r, prev_c, r, c, sym: [prev_r+1, c, sym],\n",
    "                # sort by column, then row, then symbol\n",
    "                sort_fn=lambda x:(x[1], x[0], x[2]),\n",
    "            )\n",
    "        case 'W':\n",
    "            ixes = _move_dirn_helper(\n",
    "                ixes=ixes,\n",
    "                new_O_pos_fn=lambda prev_r, prev_c, r, c, sym: [r, prev_c+1, sym],\n",
    "                # sort by row, then col, then symbol\n",
    "                sort_fn=lambda x:(x[0], x[1], x[2]),\n",
    "            )\n",
    "        case 'S':\n",
    "            ixes = _move_dirn_helper(\n",
    "                ixes=ixes,\n",
    "                new_O_pos_fn=lambda prev_r, prev_c, r, c, sym: [prev_r-1, c, sym],\n",
    "                # sort by column, then inv row, then symbol\n",
    "                sort_fn=lambda x:(x[1], -x[0], x[2]),\n",
    "            )\n",
    "        case 'E':\n",
    "            ixes = _move_dirn_helper(\n",
    "                ixes=ixes,\n",
    "                new_O_pos_fn=lambda prev_r, prev_c, r, c, sym: [r, prev_c-1, sym],\n",
    "                # sort by row, then inv col, then symbol\n",
    "                sort_fn=lambda x:(x[0], -x[1], x[2]),\n",
    "            )\n",
    "        case _: raise NotImplementedError()\n",
    "    return {\n",
    "        # ex:   ['8', '-1', '-']\n",
    "        #       ['1', '0', 'O']\n",
    "        \"ixes\": ixes,\n",
    "        \"grid\": _build_grid(ixes, nrows, ncols) if rebuild_grid else None,\n",
    "    }\n",
    "\n",
    "def _move_dirn_helper(ixes, new_O_pos_fn, sort_fn):\n",
    "    ixes = sorted(ixes, key=sort_fn)\n",
    "    for i in range(1, len(ixes)):\n",
    "        (prev_r, prev_c, prev_sym) = ixes[i-1]\n",
    "        (r, c, sym) = ixes[i]\n",
    "        if sym in {'-', '#'}:\n",
    "            continue\n",
    "        ixes[i] = new_O_pos_fn(prev_r=prev_r, prev_c=prev_c, r=r, c=c, sym=sym)\n",
    "    return ixes\n",
    "\n",
    "def _build_grid(ixes, nrows, ncols):\n",
    "    new_grid = np.array([['.']*ncols for _ in range(nrows)])\n",
    "    for r, c, sym in ixes:\n",
    "        if sym == '-':\n",
    "            continue\n",
    "        # print(f\"{r=}, {c=}, {sym=},{nrows=},{ncols=}\")\n",
    "        new_grid[r,c] = sym\n",
    "    return '\\n'.join((''.join(r)for r in new_grid))"
   ]
  },
  {
   "cell_type": "code",
   "execution_count": 201,
   "id": "2dd73fc2-e771-4f90-99e1-50f3122196fd",
   "metadata": {},
   "outputs": [
    {
     "data": {
      "text/plain": [
       "array([['O', '.', '.', '.', '.', '#', '.', '.', '.', '.'],\n",
       "       ['O', '.', 'O', 'O', '#', '.', '.', '.', '.', '#'],\n",
       "       ['.', '.', '.', '.', '.', '#', '#', '.', '.', '.'],\n",
       "       ['O', 'O', '.', '#', 'O', '.', '.', '.', '.', 'O'],\n",
       "       ['.', 'O', '.', '.', '.', '.', '.', 'O', '#', '.'],\n",
       "       ['O', '.', '#', '.', '.', 'O', '.', '#', '.', '#'],\n",
       "       ['.', '.', 'O', '.', '.', '#', 'O', '.', '.', 'O'],\n",
       "       ['.', '.', '.', '.', '.', '.', '.', 'O', '.', '.'],\n",
       "       ['#', '.', '.', '.', '.', '#', '#', '#', '.', '.'],\n",
       "       ['#', 'O', 'O', '.', '.', '#', '.', '.', '.', '.']], dtype='<U1')"
      ]
     },
     "execution_count": 201,
     "metadata": {},
     "output_type": "execute_result"
    }
   ],
   "source": [
    "test = parse_input(\"data/day14-test.txt\")\n",
    "inputs = parse_input(\"data/day14-input.txt\")\n",
    "test"
   ]
  },
  {
   "cell_type": "code",
   "execution_count": 202,
   "id": "55c8c881-3628-4b76-a1e3-b3650186ebf6",
   "metadata": {},
   "outputs": [
    {
     "data": {
      "text/plain": [
       "(136, 108813)"
      ]
     },
     "execution_count": 202,
     "metadata": {},
     "output_type": "execute_result"
    }
   ],
   "source": [
    "solve_p1(grid=test), solve_p1(grid=inputs)"
   ]
  },
  {
   "cell_type": "code",
   "execution_count": 213,
   "id": "db786d80-2563-4c4a-9da0-16bfa9355587",
   "metadata": {},
   "outputs": [
    {
     "name": "stdout",
     "output_type": "stream",
     "text": [
      "Test\n",
      "----\n"
     ]
    },
    {
     "data": {
      "application/vnd.jupyter.widget-view+json": {
       "model_id": "efd573588dc54ca89d9595d81429e97f",
       "version_major": 2,
       "version_minor": 0
      },
      "text/plain": [
       "Cycles:   0%|          | 0/1000000000 [00:00<?, ?it/s]"
      ]
     },
     "metadata": {},
     "output_type": "display_data"
    },
    {
     "data": {
      "application/vnd.jupyter.widget-view+json": {
       "model_id": "1d232647ec4f450b9def78dcd42e79e7",
       "version_major": 2,
       "version_minor": 0
      },
      "text/plain": [
       "Rem cycles:   0%|          | 0/3 [00:00<?, ?it/s]"
      ]
     },
     "metadata": {},
     "output_type": "display_data"
    },
    {
     "name": "stdout",
     "output_type": "stream",
     "text": [
      "\n",
      "Ans: 64 \n",
      ".....#....\n",
      "....#...O#\n",
      ".....##...\n",
      "...#......\n",
      ".....OOO#.\n",
      ".O#...O#.#\n",
      "....O#...O\n",
      "......OOOO\n",
      "#....###.O\n",
      "#.OOO#..OO\n",
      "\n",
      "\n",
      "Input\n",
      "-----\n"
     ]
    },
    {
     "data": {
      "application/vnd.jupyter.widget-view+json": {
       "model_id": "6e8515a7b7aa4d73aa3142507dff8df7",
       "version_major": 2,
       "version_minor": 0
      },
      "text/plain": [
       "Cycles:   0%|          | 0/1000000000 [00:00<?, ?it/s]"
      ]
     },
     "metadata": {},
     "output_type": "display_data"
    },
    {
     "data": {
      "application/vnd.jupyter.widget-view+json": {
       "model_id": "56e9a8b827b148e9b013431d5ed13909",
       "version_major": 2,
       "version_minor": 0
      },
      "text/plain": [
       "Rem cycles:   0%|          | 0/3 [00:00<?, ?it/s]"
      ]
     },
     "metadata": {},
     "output_type": "display_data"
    },
    {
     "name": "stdout",
     "output_type": "stream",
     "text": [
      "\n",
      "Ans: 104533 \n"
     ]
    }
   ],
   "source": [
    "NUM_CYCLES = 1000_000_000\n",
    "\n",
    "print('Test')\n",
    "print('----')\n",
    "res = solve_p2(grid=test, num_cycles=NUM_CYCLES)\n",
    "print(f\"\\nAns: {res['load']} \")\n",
    "print(res['grid'])\n",
    "\n",
    "print('\\n\\nInput')\n",
    "print('-----')\n",
    "res = solve_p2(grid=inputs, num_cycles=NUM_CYCLES)\n",
    "print(f\"\\nAns: {res['load']} \")\n",
    "# print(res['grid'])"
   ]
  },
  {
   "cell_type": "code",
   "execution_count": null,
   "id": "cc6daa40-8488-4740-8ea4-54bf4872dcd0",
   "metadata": {},
   "outputs": [],
   "source": []
  }
 ],
 "metadata": {
  "kernelspec": {
   "display_name": "Python 3 (ipykernel)",
   "language": "python",
   "name": "python3"
  },
  "language_info": {
   "codemirror_mode": {
    "name": "ipython",
    "version": 3
   },
   "file_extension": ".py",
   "mimetype": "text/x-python",
   "name": "python",
   "nbconvert_exporter": "python",
   "pygments_lexer": "ipython3",
   "version": "3.11.6"
  }
 },
 "nbformat": 4,
 "nbformat_minor": 5
}
