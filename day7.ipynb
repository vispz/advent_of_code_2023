{
 "cells": [
  {
   "cell_type": "code",
   "execution_count": 16,
   "id": "9d378fef-5abe-4601-a38e-ba6150c3a8f1",
   "metadata": {},
   "outputs": [],
   "source": [
    "from collections import Counter"
   ]
  },
  {
   "cell_type": "code",
   "execution_count": 17,
   "id": "a2544a8b-bafb-4036-bcd5-d1bd96905881",
   "metadata": {},
   "outputs": [],
   "source": [
    "def parse_input(fl) -> list[dict]:\n",
    "    hands = []\n",
    "    with open(fl) as infile:\n",
    "        for ln in infile.readlines():\n",
    "            cards, bid = ln.strip().split()\n",
    "            hands.append({'cards': cards, 'bid': int(bid)})\n",
    "    return hands"
   ]
  },
  {
   "cell_type": "code",
   "execution_count": 18,
   "id": "276cdf07-bb5b-4b27-8a39-bd9694f5c559",
   "metadata": {},
   "outputs": [
    {
     "data": {
      "text/plain": [
       "[{'cards': '32T3K', 'bid': 765},\n",
       " {'cards': 'T55J5', 'bid': 684},\n",
       " {'cards': 'KK677', 'bid': 28},\n",
       " {'cards': 'KTJJT', 'bid': 220},\n",
       " {'cards': 'QQQJA', 'bid': 483}]"
      ]
     },
     "execution_count": 18,
     "metadata": {},
     "output_type": "execute_result"
    }
   ],
   "source": [
    "test = parse_input(\"data/day7-test.txt\")\n",
    "inputs = parse_input(\"data/day7-input.txt\")\n",
    "test"
   ]
  },
  {
   "cell_type": "markdown",
   "id": "d975693d-ea68-4426-9d24-ec07143e43ba",
   "metadata": {},
   "source": [
    "### Part 1"
   ]
  },
  {
   "cell_type": "code",
   "execution_count": 99,
   "id": "83930a79-6a54-4fc3-b954-28c60677c653",
   "metadata": {},
   "outputs": [
    {
     "name": "stdout",
     "output_type": "stream",
     "text": [
      "{'2': 1, '3': 2, '4': 3, '5': 4, '6': 5, '7': 6, '8': 7, '9': 8, 'T': 9, 'J': 10, 'Q': 11, 'K': 12, 'A': 13}\n",
      "{'J': 1, '2': 2, '3': 3, '4': 4, '5': 5, '6': 6, '7': 7, '8': 8, '9': 9, 'T': 10, 'Q': 11, 'K': 12, 'A': 13}\n"
     ]
    }
   ],
   "source": [
    "LBL_RANK_LIST1 = list(reversed(['A', 'K', 'Q', 'J', 'T', '9', '8', '7', '6', '5', '4', '3', '2']))\n",
    "LBL2SCORE1 = {\n",
    "    lbl: i\n",
    "    for i, lbl in enumerate(LBL_RANK_LIST1, start=1)\n",
    "}\n",
    "LBL_RANK_LIST2 = list(reversed(['A', 'K', 'Q', 'T', '9', '8', '7', '6', '5', '4', '3', '2', 'J']))\n",
    "LBL2SCORE2 = {\n",
    "    lbl: i\n",
    "    for i, lbl in enumerate(LBL_RANK_LIST2, start=1)\n",
    "}\n",
    "print(LBL2SCORE1)\n",
    "print(LBL2SCORE2)"
   ]
  },
  {
   "cell_type": "code",
   "execution_count": 106,
   "id": "50c86c01-0c8d-46f8-952c-292aef709c25",
   "metadata": {},
   "outputs": [],
   "source": [
    "import functools as ft\n",
    "\n",
    "def part1(hands):\n",
    "    return part_helper(\n",
    "        hands=hands,\n",
    "        _pair_score_fn=_pair_score_part1,\n",
    "        lbl2score=LBL2SCORE2,\n",
    "    )\n",
    "\n",
    "def part2(hands):\n",
    "    return part_helper(\n",
    "        hands=hands,\n",
    "        _pair_score_fn=_pair_score_part2,\n",
    "        lbl2score=LBL2SCORE2,\n",
    "    )\n",
    "\n",
    "def part_helper(hands, _pair_score_fn, lbl2score):\n",
    "    ranked_hands = sorted(\n",
    "        hands,\n",
    "        key=ft.cmp_to_key(\n",
    "            ft.partial(\n",
    "                cmp_poker,\n",
    "                _pair_score_fn=_pair_score_fn,\n",
    "                lbl2score=lbl2score,\n",
    "            ),\n",
    "        ),\n",
    "    )\n",
    "    return sum(h['bid'] * rk for rk, h in enumerate(ranked_hands, start=1))\n",
    "    \n",
    "def cmp_poker(hand1, hand2, _pair_score_fn, lbl2score):\n",
    "    cards1, cards2 = hand1['cards'], hand2['cards']\n",
    "    ps_c1, ps_c2 = _pair_score_fn(cards1), _pair_score_fn(cards2)\n",
    "    if ps_c1 != ps_c2:\n",
    "        return ps_c1-ps_c2\n",
    "    # compare cards in order\n",
    "    for c1, c2 in zip(cards1, cards2):\n",
    "        if c1 == c2:\n",
    "            continue\n",
    "        # print(f'{c1=},{c2=}')\n",
    "        return lbl2score[c1] - lbl2score[c2]\n",
    "    else:\n",
    "        return 0\n",
    "\n",
    "def _pair_score_part1(cards):\n",
    "    return _to_pair_score(cntr=Counter(cards))\n",
    "\n",
    "def _to_pair_score(cntr):\n",
    "    return sum(20**ct for ct in cntr.values())\n",
    "\n",
    "def _pair_score_part2(cards):\n",
    "    cntr = Counter(cards)\n",
    "    if 'J' not in cntr:\n",
    "        return  _to_pair_score(cntr=cntr)\n",
    "    if 'J' in cntr and len(cntr) == 1:\n",
    "        return  _to_pair_score(cntr=cntr)\n",
    "    j_cnt = cntr.pop('J')\n",
    "    rem_max_cnt = max(cntr.values())\n",
    "    for c in cntr:\n",
    "        if cntr[c] == rem_max_cnt:\n",
    "            cntr[c] += j_cnt\n",
    "            # print(f\"{cards=}, {cntr=}\")\n",
    "            break\n",
    "    return _to_pair_score(cntr=cntr)"
   ]
  },
  {
   "cell_type": "code",
   "execution_count": 107,
   "id": "7a181402-5d3e-47ed-8221-37258a5df5ca",
   "metadata": {},
   "outputs": [
    {
     "name": "stdout",
     "output_type": "stream",
     "text": [
      "6440\n",
      "250257348\n"
     ]
    }
   ],
   "source": [
    "print(part1(test))\n",
    "print(part1(inputs))"
   ]
  },
  {
   "cell_type": "code",
   "execution_count": 108,
   "id": "11f58d68-de43-4561-a6d0-aae45b1bcc54",
   "metadata": {},
   "outputs": [
    {
     "ename": "TypeError",
     "evalue": "cmp_poker() missing 1 required positional argument: 'lbl2score'",
     "output_type": "error",
     "traceback": [
      "\u001b[0;31m---------------------------------------------------------------------------\u001b[0m",
      "\u001b[0;31mTypeError\u001b[0m                                 Traceback (most recent call last)",
      "Cell \u001b[0;32mIn[108], line 1\u001b[0m\n\u001b[0;32m----> 1\u001b[0m \u001b[43mcmp_poker\u001b[49m\u001b[43m(\u001b[49m\n\u001b[1;32m      2\u001b[0m \u001b[43m    \u001b[49m\u001b[43mhand1\u001b[49m\u001b[38;5;241;43m=\u001b[39;49m\u001b[43m{\u001b[49m\u001b[38;5;124;43m'\u001b[39;49m\u001b[38;5;124;43mcards\u001b[39;49m\u001b[38;5;124;43m'\u001b[39;49m\u001b[43m:\u001b[49m\u001b[43m \u001b[49m\u001b[38;5;124;43m'\u001b[39;49m\u001b[38;5;124;43mKTJJT\u001b[39;49m\u001b[38;5;124;43m'\u001b[39;49m\u001b[43m}\u001b[49m\u001b[43m,\u001b[49m\n\u001b[1;32m      3\u001b[0m \u001b[43m    \u001b[49m\u001b[43mhand2\u001b[49m\u001b[38;5;241;43m=\u001b[39;49m\u001b[43m{\u001b[49m\u001b[38;5;124;43m'\u001b[39;49m\u001b[38;5;124;43mcards\u001b[39;49m\u001b[38;5;124;43m'\u001b[39;49m\u001b[43m:\u001b[49m\u001b[43m \u001b[49m\u001b[38;5;124;43m'\u001b[39;49m\u001b[38;5;124;43mQQQJA\u001b[39;49m\u001b[38;5;124;43m'\u001b[39;49m\u001b[43m}\u001b[49m\u001b[43m,\u001b[49m\n\u001b[1;32m      4\u001b[0m \u001b[43m    \u001b[49m\u001b[43m_pair_score_fn\u001b[49m\u001b[38;5;241;43m=\u001b[39;49m\u001b[43m_pair_score_part2\u001b[49m\u001b[43m,\u001b[49m\n\u001b[1;32m      5\u001b[0m \u001b[43m)\u001b[49m\n",
      "\u001b[0;31mTypeError\u001b[0m: cmp_poker() missing 1 required positional argument: 'lbl2score'"
     ]
    }
   ],
   "source": [
    "cmp_poker(\n",
    "    hand1={'cards': 'KTJJT'},\n",
    "    hand2={'cards': 'QQQJA'},\n",
    "    _pair_score_fn=_pair_score_part2,\n",
    "    lbl2score=LB\n",
    ")"
   ]
  },
  {
   "cell_type": "code",
   "execution_count": 98,
   "id": "9d458cd5-91d8-40b6-af1d-a3335fe4a08d",
   "metadata": {},
   "outputs": [
    {
     "name": "stdout",
     "output_type": "stream",
     "text": [
      "5905\n",
      "248846325\n"
     ]
    }
   ],
   "source": [
    "print(part2(test))\n",
    "print(part2(inputs))"
   ]
  },
  {
   "cell_type": "code",
   "execution_count": null,
   "id": "a6201d11-c94c-4894-887b-23bcb9d5cb3e",
   "metadata": {},
   "outputs": [],
   "source": []
  }
 ],
 "metadata": {
  "kernelspec": {
   "display_name": "Python 3 (ipykernel)",
   "language": "python",
   "name": "python3"
  },
  "language_info": {
   "codemirror_mode": {
    "name": "ipython",
    "version": 3
   },
   "file_extension": ".py",
   "mimetype": "text/x-python",
   "name": "python",
   "nbconvert_exporter": "python",
   "pygments_lexer": "ipython3",
   "version": "3.11.6"
  }
 },
 "nbformat": 4,
 "nbformat_minor": 5
}
