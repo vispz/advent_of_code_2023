{
 "cells": [
  {
   "cell_type": "code",
   "execution_count": 58,
   "id": "afb9c3ab-b8f0-4b4f-a6d1-833d7d1c702f",
   "metadata": {},
   "outputs": [],
   "source": [
    "def parse_input(_iter_lns) -> list[dict]:\n",
    "    return [_parse_ln(ln) for ln in _iter_lns]\n",
    "\n",
    "def _parse_ln(ln):\n",
    "    # Card 1: 41 48 83 86 17 | 83 86  6 31 17  9 48 53\n",
    "    _, nums = ln.split(':')\n",
    "    nums1, nums2 = nums.strip().split('|')\n",
    "    nmatch = len(set(nums1.strip().split()) & set(nums2.strip().split()))\n",
    "    return nmatch\n",
    "\n",
    "def iter_fl(fl):\n",
    "    with open(fl) as infile:\n",
    "        yield from infile.readlines()"
   ]
  },
  {
   "cell_type": "code",
   "execution_count": 59,
   "id": "fa504d9d-01fb-4164-8166-60263852d02e",
   "metadata": {},
   "outputs": [
    {
     "data": {
      "text/plain": [
       "[4, 2, 2, 1, 0, 0]"
      ]
     },
     "execution_count": 59,
     "metadata": {},
     "output_type": "execute_result"
    }
   ],
   "source": [
    "test = parse_input(iter_fl(\"data/day4-test.txt\"))\n",
    "input = parse_input(iter_fl(\"data/day4-input.txt\"))\n",
    "test"
   ]
  },
  {
   "cell_type": "markdown",
   "id": "2531d721-3fc2-4e7e-b912-48c678d87b18",
   "metadata": {},
   "source": [
    "### Part 1"
   ]
  },
  {
   "cell_type": "code",
   "execution_count": 63,
   "id": "879e20a0-1346-42d3-b547-07aaecf7415e",
   "metadata": {},
   "outputs": [],
   "source": [
    "def part1(games):\n",
    "    return sum(2 ** (m - 1) for m in games if m)"
   ]
  },
  {
   "cell_type": "code",
   "execution_count": 64,
   "id": "8810e805-ae7d-4621-a711-673c77d0a4fc",
   "metadata": {},
   "outputs": [
    {
     "name": "stdout",
     "output_type": "stream",
     "text": [
      "13\n"
     ]
    }
   ],
   "source": [
    "print(part1(test))"
   ]
  },
  {
   "cell_type": "code",
   "execution_count": 65,
   "id": "df1619b9-5367-479e-8c95-b25a0cb2b954",
   "metadata": {},
   "outputs": [
    {
     "name": "stdout",
     "output_type": "stream",
     "text": [
      "21558\n"
     ]
    }
   ],
   "source": [
    "print(part1(input))"
   ]
  },
  {
   "cell_type": "markdown",
   "id": "99667273-6567-4ffa-884a-fde7f24a4f25",
   "metadata": {},
   "source": [
    "### Part 2"
   ]
  },
  {
   "cell_type": "code",
   "execution_count": 105,
   "id": "a5def496-4f88-40be-9698-2d6e2157fa36",
   "metadata": {},
   "outputs": [],
   "source": [
    "def part2(games):\n",
    "    ngames = len(games)\n",
    "    cache = [None] * ngames\n",
    "    return sum(\n",
    "        part2_rec(cn=i, games=games, cache=cache)\n",
    "        for i in range(0, ngames)\n",
    "    )\n",
    "\n",
    "\n",
    "def part2_rec(cn, games, cache):\n",
    "    if cache[cn] is not None:\n",
    "       return cache[cn]\n",
    "    if cn >= len(games):\n",
    "        return 0\n",
    "    total = 1 + sum(\n",
    "        part2_rec(cn=i, games=games, cache=cache)\n",
    "        for i in range(cn+1, cn+games[cn]+1)\n",
    "    )\n",
    "    cache[cn] = total\n",
    "    return total"
   ]
  },
  {
   "cell_type": "code",
   "execution_count": 106,
   "id": "034c5a83-5b28-4716-91ef-1afc93e73f3a",
   "metadata": {},
   "outputs": [
    {
     "data": {
      "text/plain": [
       "30"
      ]
     },
     "execution_count": 106,
     "metadata": {},
     "output_type": "execute_result"
    }
   ],
   "source": [
    "part2(test)"
   ]
  },
  {
   "cell_type": "code",
   "execution_count": 107,
   "id": "06bb92b3-91cc-4677-b6bc-1d474a3f48e9",
   "metadata": {},
   "outputs": [
    {
     "data": {
      "text/plain": [
       "10425665"
      ]
     },
     "execution_count": 107,
     "metadata": {},
     "output_type": "execute_result"
    }
   ],
   "source": [
    "part2(input)"
   ]
  },
  {
   "cell_type": "code",
   "execution_count": null,
   "id": "616e23ab-4bee-414c-bc7e-17ec746ae37c",
   "metadata": {},
   "outputs": [],
   "source": []
  }
 ],
 "metadata": {
  "kernelspec": {
   "display_name": "Python 3 (ipykernel)",
   "language": "python",
   "name": "python3"
  },
  "language_info": {
   "codemirror_mode": {
    "name": "ipython",
    "version": 3
   },
   "file_extension": ".py",
   "mimetype": "text/x-python",
   "name": "python",
   "nbconvert_exporter": "python",
   "pygments_lexer": "ipython3",
   "version": "3.11.6"
  }
 },
 "nbformat": 4,
 "nbformat_minor": 5
}
