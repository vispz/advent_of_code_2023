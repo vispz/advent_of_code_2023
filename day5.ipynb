{
 "cells": [
  {
   "cell_type": "code",
   "execution_count": 56,
   "id": "9f18a3ad-e4f3-4042-831b-558e654c3cb6",
   "metadata": {},
   "outputs": [],
   "source": [
    "import bisect\n",
    "import sortedcontainers  as sc\n",
    "import itertools as it\n",
    "from tqdm import tqdm_notebook as tqdm"
   ]
  },
  {
   "cell_type": "code",
   "execution_count": 2,
   "id": "80b3f4cc-1c7d-4a0d-93da-1eb1fa500746",
   "metadata": {},
   "outputs": [],
   "source": [
    "def iter_fl(fl):\n",
    "    with open(fl) as infile:\n",
    "        yield from infile.readlines()"
   ]
  },
  {
   "cell_type": "code",
   "execution_count": 42,
   "id": "619ee34f-03c5-4d81-a26e-9ac16b124fa3",
   "metadata": {},
   "outputs": [],
   "source": [
    "def parse_input(fl_iter):\n",
    "    seeds = list(map(int, next(fl_iter).split(':')[1].strip().split()))\n",
    "    range_maps = {\n",
    "        m: sc.SortedDict()\n",
    "        for m in [\n",
    "            \"seed2soil\",\n",
    "            \"soil2fert\",\n",
    "            \"fert2water\",\n",
    "            \"water2light\",\n",
    "            \"light2temp\",\n",
    "            \"temp2hum\",\n",
    "            \"hum2loc\",\n",
    "        ]\n",
    "    }\n",
    "    lnst2rd = {k[:3]: v for k, v in range_maps.items()}\n",
    "    for ln in fl_iter:\n",
    "        if not ln:\n",
    "            continue\n",
    "        for st, rd in lnst2rd.items():\n",
    "            if ln.startswith(st):\n",
    "                _parse_range(fl_iter, rd)\n",
    "    return {\n",
    "        \"seeds\": seeds,\n",
    "        \"seed_rngs\": [(s, s+r-1) for s, r in zip(seeds[::2], seeds[1::2])],\n",
    "        \"range_maps\": range_maps,\n",
    "    }\n",
    "\n",
    "\n",
    "def _parse_range(fl_iter, rd):\n",
    "    max_key = 0\n",
    "    for ln in fl_iter:\n",
    "        if not ln.strip():\n",
    "            break\n",
    "        dst, src, rng = map(int, ln.strip().split())\n",
    "        max_key = max(max_key, src+rng)\n",
    "        rd[(src, src+rng-1)] = (dst, dst+rng-1)\n",
    "    # Fill gaps\n",
    "    fst_st, fst_end = next(iter(rd))\n",
    "    if fst_st != 0:\n",
    "        rd[(0, fst_st-1)] = (0, fst_st-1)\n",
    "    src_rngs = list(rd)\n",
    "    for (_, p_end), (c_st, _) in zip(src_rngs, src_rngs[1:]):\n",
    "        if p_end + 1 == c_st:\n",
    "            continue\n",
    "        rd[(p_end+1, c_st-1)] = (p_end+1, c_st-1)\n",
    "    _, s_end = src_rngs[-1]\n",
    "    rd[(s_end+1, float('inf'))] = (s_end+1, float('inf'))"
   ]
  },
  {
   "cell_type": "code",
   "execution_count": 43,
   "id": "7a6644fa-66e5-4d5c-aad3-57b0f9153656",
   "metadata": {},
   "outputs": [
    {
     "data": {
      "text/plain": [
       "{'seeds': [79, 14, 55, 13],\n",
       " 'seed_rngs': [(79, 92), (55, 67)],\n",
       " 'range_maps': {'seed2soil': SortedDict({(0, 49): (0, 49), (50, 97): (52, 99), (98, 99): (50, 51), (100, inf): (100, inf)}),\n",
       "  'soil2fert': SortedDict({(0, 14): (39, 53), (15, 51): (0, 36), (52, 53): (37, 38), (54, inf): (54, inf)}),\n",
       "  'fert2water': SortedDict({(0, 6): (42, 48), (7, 10): (57, 60), (11, 52): (0, 41), (53, 60): (49, 56), (61, inf): (61, inf)}),\n",
       "  'water2light': SortedDict({(0, 17): (0, 17), (18, 24): (88, 94), (25, 94): (18, 87), (95, inf): (95, inf)}),\n",
       "  'light2temp': SortedDict({(0, 44): (0, 44), (45, 63): (81, 99), (64, 76): (68, 80), (77, 99): (45, 67), (100, inf): (100, inf)}),\n",
       "  'temp2hum': SortedDict({(0, 68): (1, 69), (69, 69): (0, 0), (70, inf): (70, inf)}),\n",
       "  'hum2loc': SortedDict({(0, 55): (0, 55), (56, 92): (60, 96), (93, 96): (56, 59), (97, inf): (97, inf)})}}"
      ]
     },
     "execution_count": 43,
     "metadata": {},
     "output_type": "execute_result"
    }
   ],
   "source": [
    "test = parse_input(iter_fl(\"data/day5-test.txt\"))\n",
    "input = parse_input(iter_fl(\"data/day5-input.txt\"))\n",
    "test"
   ]
  },
  {
   "cell_type": "markdown",
   "id": "945b9178-b49b-47b3-af27-9470ecaa224e",
   "metadata": {},
   "source": [
    "### Part 1"
   ]
  },
  {
   "cell_type": "code",
   "execution_count": 163,
   "id": "d3ed4dc3-0dc6-4f3f-836f-3cdf87a5c940",
   "metadata": {},
   "outputs": [],
   "source": [
    "def part1(seeds, range_maps, debug=False, **kwargs):\n",
    "    min_loc = float('inf')\n",
    "    for s in tqdm(seeds, \"seeds part 1\"):\n",
    "        loc = _to_loc(s, range_maps, debug=debug)\n",
    "        if debug:\n",
    "            print(f\"{s=}\\t{loc=}\")\n",
    "        min_loc = min(min_loc, loc)\n",
    "    return min_loc\n",
    "\n",
    "def _to_loc(seed, range_maps, debug=False):\n",
    "    x = seed\n",
    "    if debug:\n",
    "        print(\"\\n----------------------------------------\\n\")\n",
    "        print(f\"Seed={x}\")\n",
    "    for k, rm in range_maps.items():\n",
    "        for st, end in rm:\n",
    "            if st <= x <= end:\n",
    "                new_x = rm[(st, end)][0] + x - st\n",
    "                break\n",
    "        else:\n",
    "            new_x = x\n",
    "        if debug:\n",
    "            print(f\"{k=}\\t{x=}\\t{new_x=}\")\n",
    "        x = new_x\n",
    "    return x"
   ]
  },
  {
   "cell_type": "code",
   "execution_count": 164,
   "id": "135b7c71-3226-4027-852d-660aab2685bb",
   "metadata": {},
   "outputs": [
    {
     "name": "stderr",
     "output_type": "stream",
     "text": [
      "/var/folders/5p/k2zfs2h50pj54h8zssrcmmx00000gn/T/ipykernel_67516/927600657.py:3: TqdmDeprecationWarning: This function will be removed in tqdm==5.0.0\n",
      "Please use `tqdm.notebook.tqdm` instead of `tqdm.tqdm_notebook`\n",
      "  for s in tqdm(seeds, \"seeds part 1\"):\n"
     ]
    },
    {
     "data": {
      "application/vnd.jupyter.widget-view+json": {
       "model_id": "62123c28c85d4df7bafd116997e13113",
       "version_major": 2,
       "version_minor": 0
      },
      "text/plain": [
       "seeds part 1:   0%|          | 0/4 [00:00<?, ?it/s]"
      ]
     },
     "metadata": {},
     "output_type": "display_data"
    },
    {
     "name": "stdout",
     "output_type": "stream",
     "text": [
      "Part 1 test: 35\n"
     ]
    },
    {
     "data": {
      "application/vnd.jupyter.widget-view+json": {
       "model_id": "210fc93047a047b386801375de4291bf",
       "version_major": 2,
       "version_minor": 0
      },
      "text/plain": [
       "seeds part 1:   0%|          | 0/20 [00:00<?, ?it/s]"
      ]
     },
     "metadata": {},
     "output_type": "display_data"
    },
    {
     "name": "stdout",
     "output_type": "stream",
     "text": [
      "Part 1 input: 240320250\n"
     ]
    }
   ],
   "source": [
    "print(\"Part 1 test:\", part1(**test))\n",
    "print(\"Part 1 input:\", part1(**input))"
   ]
  },
  {
   "cell_type": "markdown",
   "id": "e8f59667-33af-4feb-b48c-0ea79417faa3",
   "metadata": {},
   "source": [
    "### Part 2"
   ]
  },
  {
   "cell_type": "code",
   "execution_count": 52,
   "id": "b18c9029-e96d-465a-a370-afdb92c44364",
   "metadata": {},
   "outputs": [
    {
     "name": "stdout",
     "output_type": "stream",
     "text": [
      "10^9\n"
     ]
    }
   ],
   "source": [
    "# size of blind_search\n",
    "import numpy as np\n",
    "print(f\"10^{round(np.log10(sum(input['seeds'][1::2])))}\")"
   ]
  },
  {
   "cell_type": "markdown",
   "id": "4d0e7d95-beda-41fc-b3e0-6ba9f435c44e",
   "metadata": {},
   "source": [
    "``` python\n",
    "pis       pie\n",
    "  1-2-3-4-5\n",
    "           pos       poe\n",
    "            6-7-8-9-10\n",
    "                  cs       ce\n",
    "                  9-10-11-12\n",
    "      cs        ce\n",
    "      3-4-5-6-7-8\n",
    "      cs                  ce\n",
    "      3-4-5-6-7-8-9-10-11-12\n",
    "```"
   ]
  },
  {
   "cell_type": "code",
   "execution_count": 169,
   "id": "2f9f0b53-ee1e-4455-acb7-ea29893e81df",
   "metadata": {},
   "outputs": [],
   "source": [
    "def find_seed_rngs_rec(cur_ranges, maps, seed_rngs):\n",
    "    for i, (k, map) in enumerate(maps.items(), start=1):\n",
    "        new_ranges = []\n",
    "        # print(f\"{i=},Map {k=}\\t{map}\\tcr={cur_ranges}\")\n",
    "        if not cur_ranges:\n",
    "            print(\"Not possible\")\n",
    "            break\n",
    "        for cur_s, cur_e in cur_ranges:\n",
    "            for (pis, pie), (pos, poe) in map.items():\n",
    "                if cur_e < pos or poe < cur_s:\n",
    "                    # fully out of the range\n",
    "                    continue\n",
    "                # some overlap\n",
    "                overlap_s, overlap_e = max(cur_s, pos), min(cur_e, poe)\n",
    "                offset = pis-pos\n",
    "                new_ranges.append((overlap_s+offset, overlap_e+offset))\n",
    "        # print(f\"{new_ranges=}\")\n",
    "        cur_ranges = sorted(new_ranges)\n",
    "    # print(f\"{seed_rngs=}\")\n",
    "    pos_seed_rngs = []\n",
    "    for (cs, ce), (ss, se) in it.product(cur_ranges, seed_rngs):\n",
    "        if ce < ss or cs > se:\n",
    "            continue\n",
    "        pos_seed_rngs.append((max(cs, ss), min(ce, se)))\n",
    "    print(f\"{pos_seed_rngs=}\")\n",
    "    return pos_seed_rngs\n",
    "\n",
    "\n",
    "def part2(seed_rngs, range_maps, **kwargs):\n",
    "    maps = dict(reversed(range_maps.items()))\n",
    "    loc_rngs = sorted(maps['hum2loc'].values())\n",
    "    for lr in loc_rngs:\n",
    "        # print(f\"{lr=}\")\n",
    "        # print(f\"-----\\n\")\n",
    "        rngs: list[tuple[int, int]] = find_seed_rngs_rec(cur_ranges=[lr], maps=maps, seed_rngs=seed_rngs)\n",
    "        if not rngs:\n",
    "            print(\"\\n-----------------------------------------\\n\")\n",
    "            continue\n",
    "        seeds = list(it.chain(i for s, e in rngs for i in range(s, e+1)))\n",
    "        print(f\"{len(seeds)=}\")\n",
    "        minloc = part1(\n",
    "            seeds=seeds,\n",
    "            range_maps=range_maps,\n",
    "            debug=False,\n",
    "        )\n",
    "        print(f\"Part 2: {minloc}\")\n",
    "        break\n",
    "    return minloc\n",
    "    "
   ]
  },
  {
   "cell_type": "code",
   "execution_count": 170,
   "id": "7094b1a8-f53c-4fab-a482-94a21c4f3d11",
   "metadata": {},
   "outputs": [
    {
     "name": "stdout",
     "output_type": "stream",
     "text": [
      "pos_seed_rngs=[(1256362224, 1256607217), (1684000747, 1689017877), (3521067870, 3527793231), (3527793232, 3556846927), (3569691688, 3585338307)]\n",
      "len(seeds)=56687803\n"
     ]
    },
    {
     "name": "stderr",
     "output_type": "stream",
     "text": [
      "/var/folders/5p/k2zfs2h50pj54h8zssrcmmx00000gn/T/ipykernel_67516/927600657.py:3: TqdmDeprecationWarning: This function will be removed in tqdm==5.0.0\n",
      "Please use `tqdm.notebook.tqdm` instead of `tqdm.tqdm_notebook`\n",
      "  for s in tqdm(seeds, \"seeds part 1\"):\n"
     ]
    },
    {
     "data": {
      "application/vnd.jupyter.widget-view+json": {
       "model_id": "1c37281c101e433fbeb5721180dc8965",
       "version_major": 2,
       "version_minor": 0
      },
      "text/plain": [
       "seeds part 1:   0%|          | 0/56687803 [00:00<?, ?it/s]"
      ]
     },
     "metadata": {},
     "output_type": "display_data"
    },
    {
     "name": "stdout",
     "output_type": "stream",
     "text": [
      "Part 2: 28580589\n"
     ]
    },
    {
     "data": {
      "text/plain": [
       "28580589"
      ]
     },
     "execution_count": 170,
     "metadata": {},
     "output_type": "execute_result"
    }
   ],
   "source": [
    "part2(**input)"
   ]
  },
  {
   "cell_type": "code",
   "execution_count": null,
   "id": "a2147997-1414-49a5-9f6b-5804fa8520be",
   "metadata": {},
   "outputs": [],
   "source": []
  }
 ],
 "metadata": {
  "kernelspec": {
   "display_name": "Python 3 (ipykernel)",
   "language": "python",
   "name": "python3"
  },
  "language_info": {
   "codemirror_mode": {
    "name": "ipython",
    "version": 3
   },
   "file_extension": ".py",
   "mimetype": "text/x-python",
   "name": "python",
   "nbconvert_exporter": "python",
   "pygments_lexer": "ipython3",
   "version": "3.11.6"
  }
 },
 "nbformat": 4,
 "nbformat_minor": 5
}
